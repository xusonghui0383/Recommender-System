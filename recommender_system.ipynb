{
  "nbformat": 4,
  "nbformat_minor": 0,
  "metadata": {
    "kernelspec": {
      "display_name": "Python 3",
      "language": "python",
      "name": "python3"
    },
    "language_info": {
      "codemirror_mode": {
        "name": "ipython",
        "version": 2
      },
      "file_extension": ".py",
      "mimetype": "text/x-python",
      "name": "python",
      "nbconvert_exporter": "python",
      "pygments_lexer": "ipython2",
      "version": "2.7.12"
    },
    "colab": {
      "name": "recommender-system.ipynb",
      "provenance": [],
      "collapsed_sections": []
    }
  },
  "cells": [
    {
      "cell_type": "markdown",
      "metadata": {
        "id": "dAQpYjPVzdsw",
        "colab_type": "text"
      },
      "source": [
        "# Recommendation Systems"
      ]
    },
    {
      "cell_type": "markdown",
      "metadata": {
        "id": "T8rWqpOEzdsz",
        "colab_type": "text"
      },
      "source": [
        "### Getting MovieLens data"
      ]
    },
    {
      "cell_type": "markdown",
      "metadata": {
        "id": "PQaV4DkBzds0",
        "colab_type": "text"
      },
      "source": [
        "* Download the movielens 100k dataset from this link: [ml-100k.zip](http://files.grouplens.org/datasets/movielens/ml-100k.zip)\n",
        "\n",
        "* Upload ml-100k.zip\n",
        "\n",
        "* Extract using the following cell:"
      ]
    },
    {
      "cell_type": "markdown",
      "metadata": {
        "id": "R9dHQTK1zds1",
        "colab_type": "text"
      },
      "source": [
        "### Imports"
      ]
    },
    {
      "cell_type": "code",
      "metadata": {
        "id": "xncf3xm1zds2",
        "colab_type": "code",
        "outputId": "a880ea6a-887a-4f33-a00c-bf73d22fc904",
        "colab": {
          "base_uri": "https://localhost:8080/",
          "height": 177
        }
      },
      "source": [
        "# import required libraries\n",
        "!pip install wget\n",
        "import os\n",
        "import os.path\n",
        "import numpy as np\n",
        "import pandas as pd\n",
        "from math import sqrt\n",
        "from heapq import nlargest\n",
        "from tqdm import trange\n",
        "from tqdm import tqdm\n",
        "from scipy import stats\n",
        "from sklearn.metrics.pairwise import pairwise_distances\n",
        "from sklearn.metrics import mean_squared_error\n",
        "import wget\n",
        "import matplotlib.pyplot as plt\n",
        "from sklearn.model_selection import train_test_split"
      ],
      "execution_count": 0,
      "outputs": [
        {
          "output_type": "stream",
          "text": [
            "Collecting wget\n",
            "  Downloading https://files.pythonhosted.org/packages/47/6a/62e288da7bcda82b935ff0c6cfe542970f04e29c756b0e147251b2fb251f/wget-3.2.zip\n",
            "Building wheels for collected packages: wget\n",
            "  Building wheel for wget (setup.py) ... \u001b[?25l\u001b[?25hdone\n",
            "  Created wheel for wget: filename=wget-3.2-cp36-none-any.whl size=9681 sha256=f3f2ea9b1a8ea957314c22dfb8b1e6b543b7441411866e0697d00bc3116aea6f\n",
            "  Stored in directory: /root/.cache/pip/wheels/40/15/30/7d8f7cea2902b4db79e3fea550d7d7b85ecb27ef992b618f3f\n",
            "Successfully built wget\n",
            "Installing collected packages: wget\n",
            "Successfully installed wget-3.2\n"
          ],
          "name": "stdout"
        }
      ]
    },
    {
      "cell_type": "markdown",
      "metadata": {
        "id": "F1ill6yOzds5",
        "colab_type": "text"
      },
      "source": [
        "## Support functions and variables"
      ]
    },
    {
      "cell_type": "code",
      "metadata": {
        "id": "lNbQGMevzds8",
        "colab_type": "code",
        "outputId": "04b9a108-fac6-4703-eadd-8aa0c1fb9cda",
        "colab": {
          "base_uri": "https://localhost:8080/",
          "height": 461
        }
      },
      "source": [
        "wget.download(\"https://github.com/MIE451-1513-2019/course-datasets/raw/master/ml-100k.zip\")\n",
        "!unzip ml-100k.zip\n",
        "MOVIELENS_DIR = \"ml-100k\""
      ],
      "execution_count": 0,
      "outputs": [
        {
          "output_type": "stream",
          "text": [
            "Archive:  ml-100k.zip\n",
            "   creating: ml-100k/\n",
            "  inflating: ml-100k/allbut.pl       \n",
            "  inflating: ml-100k/mku.sh          \n",
            "  inflating: ml-100k/README          \n",
            "  inflating: ml-100k/u.data          \n",
            "  inflating: ml-100k/u.genre         \n",
            "  inflating: ml-100k/u.info          \n",
            "  inflating: ml-100k/u.item          \n",
            "  inflating: ml-100k/u.occupation    \n",
            "  inflating: ml-100k/u.user          \n",
            "  inflating: ml-100k/u1.base         \n",
            "  inflating: ml-100k/u1.test         \n",
            "  inflating: ml-100k/u2.base         \n",
            "  inflating: ml-100k/u2.test         \n",
            "  inflating: ml-100k/u3.base         \n",
            "  inflating: ml-100k/u3.test         \n",
            "  inflating: ml-100k/u4.base         \n",
            "  inflating: ml-100k/u4.test         \n",
            "  inflating: ml-100k/u5.base         \n",
            "  inflating: ml-100k/u5.test         \n",
            "  inflating: ml-100k/ua.base         \n",
            "  inflating: ml-100k/ua.test         \n",
            "  inflating: ml-100k/ub.base         \n",
            "  inflating: ml-100k/ub.test         \n"
          ],
          "name": "stdout"
        }
      ]
    },
    {
      "cell_type": "code",
      "metadata": {
        "id": "emOWqsTGzdtB",
        "colab_type": "code",
        "outputId": "09d4097b-eaf9-4079-a7e3-b8885c16119e",
        "colab": {
          "base_uri": "https://localhost:8080/",
          "height": 70
        }
      },
      "source": [
        "!ls {MOVIELENS_DIR}"
      ],
      "execution_count": 0,
      "outputs": [
        {
          "output_type": "stream",
          "text": [
            "allbut.pl  u1.base  u2.test  u4.base  u5.test  ub.base\tu.genre  u.occupation\n",
            "mku.sh\t   u1.test  u3.base  u4.test  ua.base  ub.test\tu.info\t u.user\n",
            "README\t   u2.base  u3.test  u5.base  ua.test  u.data\tu.item\n"
          ],
          "name": "stdout"
        }
      ]
    },
    {
      "cell_type": "code",
      "metadata": {
        "id": "3k0-kPF7zdtE",
        "colab_type": "code",
        "colab": {}
      },
      "source": [
        "def getData(folder_path, file_name):\n",
        "    fields = ['userID', 'itemID', 'rating', 'timestamp']\n",
        "    data = pd.read_csv(os.path.join(folder_path, file_name), sep='\\t', names=fields)\n",
        "    return data "
      ],
      "execution_count": 0,
      "outputs": []
    },
    {
      "cell_type": "code",
      "metadata": {
        "id": "nvqWuW5NzdtI",
        "colab_type": "code",
        "colab": {}
      },
      "source": [
        "rating_df = getData(MOVIELENS_DIR, 'u.data')"
      ],
      "execution_count": 0,
      "outputs": []
    },
    {
      "cell_type": "code",
      "metadata": {
        "id": "5RPCAd--22MQ",
        "colab_type": "code",
        "outputId": "f1f602a7-071d-45c5-952e-d2ec30ef0e1c",
        "colab": {
          "base_uri": "https://localhost:8080/",
          "height": 200
        }
      },
      "source": [
        "rating_df.head()"
      ],
      "execution_count": 0,
      "outputs": [
        {
          "output_type": "execute_result",
          "data": {
            "text/html": [
              "<div>\n",
              "<style scoped>\n",
              "    .dataframe tbody tr th:only-of-type {\n",
              "        vertical-align: middle;\n",
              "    }\n",
              "\n",
              "    .dataframe tbody tr th {\n",
              "        vertical-align: top;\n",
              "    }\n",
              "\n",
              "    .dataframe thead th {\n",
              "        text-align: right;\n",
              "    }\n",
              "</style>\n",
              "<table border=\"1\" class=\"dataframe\">\n",
              "  <thead>\n",
              "    <tr style=\"text-align: right;\">\n",
              "      <th></th>\n",
              "      <th>userID</th>\n",
              "      <th>itemID</th>\n",
              "      <th>rating</th>\n",
              "      <th>timestamp</th>\n",
              "    </tr>\n",
              "  </thead>\n",
              "  <tbody>\n",
              "    <tr>\n",
              "      <th>0</th>\n",
              "      <td>196</td>\n",
              "      <td>242</td>\n",
              "      <td>3</td>\n",
              "      <td>881250949</td>\n",
              "    </tr>\n",
              "    <tr>\n",
              "      <th>1</th>\n",
              "      <td>186</td>\n",
              "      <td>302</td>\n",
              "      <td>3</td>\n",
              "      <td>891717742</td>\n",
              "    </tr>\n",
              "    <tr>\n",
              "      <th>2</th>\n",
              "      <td>22</td>\n",
              "      <td>377</td>\n",
              "      <td>1</td>\n",
              "      <td>878887116</td>\n",
              "    </tr>\n",
              "    <tr>\n",
              "      <th>3</th>\n",
              "      <td>244</td>\n",
              "      <td>51</td>\n",
              "      <td>2</td>\n",
              "      <td>880606923</td>\n",
              "    </tr>\n",
              "    <tr>\n",
              "      <th>4</th>\n",
              "      <td>166</td>\n",
              "      <td>346</td>\n",
              "      <td>1</td>\n",
              "      <td>886397596</td>\n",
              "    </tr>\n",
              "  </tbody>\n",
              "</table>\n",
              "</div>"
            ],
            "text/plain": [
              "   userID  itemID  rating  timestamp\n",
              "0     196     242       3  881250949\n",
              "1     186     302       3  891717742\n",
              "2      22     377       1  878887116\n",
              "3     244      51       2  880606923\n",
              "4     166     346       1  886397596"
            ]
          },
          "metadata": {
            "tags": []
          },
          "execution_count": 6
        }
      ]
    },
    {
      "cell_type": "code",
      "metadata": {
        "id": "SpmN2NrTzdtK",
        "colab_type": "code",
        "outputId": "08b38ece-72f4-4521-e379-67d6e591d1b3",
        "colab": {
          "base_uri": "https://localhost:8080/",
          "height": 52
        }
      },
      "source": [
        "num_users = len(rating_df.userID.unique())\n",
        "num_items = len(rating_df.itemID.unique())\n",
        "print(\"Number of users:\", num_users)\n",
        "print(\"Number of items:\", num_items)"
      ],
      "execution_count": 0,
      "outputs": [
        {
          "output_type": "stream",
          "text": [
            "Number of users: 943\n",
            "Number of items: 1682\n"
          ],
          "name": "stdout"
        }
      ]
    },
    {
      "cell_type": "markdown",
      "metadata": {
        "id": "GQg7fW9SzdtO",
        "colab_type": "text"
      },
      "source": [
        "### Data Preprocessing and Baseline algorithms"
      ]
    },
    {
      "cell_type": "markdown",
      "metadata": {
        "id": "jLVaLm25zdtO",
        "colab_type": "text"
      },
      "source": [
        "### (a) Produce a user-item matrix"
      ]
    },
    {
      "cell_type": "code",
      "metadata": {
        "id": "FiiG_0QfzdtP",
        "colab_type": "code",
        "colab": {}
      },
      "source": [
        "def dataPreprocessor(rating_df, num_users, num_items):\n",
        "    \"\"\"\n",
        "        INPUT: \n",
        "            data: pandas DataFrame. columns=['userID', 'itemID', 'rating' ...]\n",
        "            num_row: int. number of users\n",
        "            num_col: int. number of items\n",
        "            \n",
        "        OUTPUT:\n",
        "            matrix: 2D numpy array. \n",
        "            \n",
        "        NOTE 1: see where something very similar is done in the lab in function 'buildUserItemMatrix'    \n",
        "            \n",
        "        NOTE 2: data can have more columns, but your function should ignore \n",
        "              additional columns.\n",
        "    \"\"\"\n",
        "    # Initialize a of size (numUsers, numItems) to zeros\n",
        "    matrix = np.zeros((num_users, num_items), dtype=np.int8)\n",
        "    \n",
        "    # Populate the matrix based on the dataset\n",
        "    for (index, userID, itemID, rating, timestamp) in rating_df.itertuples():\n",
        "        matrix[userID-1, itemID-1] = rating\n",
        "    \n",
        "    return matrix"
      ],
      "execution_count": 0,
      "outputs": []
    },
    {
      "cell_type": "code",
      "metadata": {
        "id": "f6DxbgBmzdtS",
        "colab_type": "code",
        "outputId": "418e1868-1b03-41c2-898b-26f85117950e",
        "colab": {
          "base_uri": "https://localhost:8080/",
          "height": 141
        }
      },
      "source": [
        "dataPreprocessor(rating_df, num_users, num_items)\n",
        "#dimension: 943 * 1682"
      ],
      "execution_count": 0,
      "outputs": [
        {
          "output_type": "execute_result",
          "data": {
            "text/plain": [
              "array([[5, 3, 4, ..., 0, 0, 0],\n",
              "       [4, 0, 0, ..., 0, 0, 0],\n",
              "       [0, 0, 0, ..., 0, 0, 0],\n",
              "       ...,\n",
              "       [5, 0, 0, ..., 0, 0, 0],\n",
              "       [0, 0, 0, ..., 0, 0, 0],\n",
              "       [0, 5, 0, ..., 0, 0, 0]], dtype=int8)"
            ]
          },
          "metadata": {
            "tags": []
          },
          "execution_count": 9
        }
      ]
    },
    {
      "cell_type": "markdown",
      "metadata": {
        "id": "4b4XZHBczdtU",
        "colab_type": "text"
      },
      "source": [
        "### (b) implement the two baseline algorithms: popularity and user average rating"
      ]
    },
    {
      "cell_type": "code",
      "metadata": {
        "id": "z9AkrRvUzdtV",
        "colab_type": "code",
        "colab": {}
      },
      "source": [
        "class BaseLineRecSys(object):\n",
        "    def __init__(self, method, processor=dataPreprocessor):\n",
        "        \"\"\"\n",
        "            method: string. From ['popularity','useraverage']\n",
        "            processor: function name. dataPreprocessor by default\n",
        "        \"\"\"\n",
        "        self.method_name = method\n",
        "        self.method = self._getMethod(self.method_name)\n",
        "        self.processor = processor\n",
        "        self.pred_column_name = self.method_name\n",
        "        \n",
        "    def _getMethod(self, method_name):\n",
        "        \"\"\"\n",
        "            Don't change this\n",
        "        \"\"\"\n",
        "        switcher = {\n",
        "            'popularity': self.popularity,\n",
        "            'useraverage': self.useraverage,\n",
        "        }\n",
        "        \n",
        "        return switcher[method_name]\n",
        "    \n",
        "    @staticmethod\n",
        "    def useraverage(train_matrix, num_users, num_items):\n",
        "        \"\"\"\n",
        "            INPUT:\n",
        "                train_matrix: 2D numpy array.\n",
        "                num_users: int. Number of Users.\n",
        "                num_items: int. Number of Items.\n",
        "            OUTPUT:\n",
        "                predictionMatrix: 2D numpy array.\n",
        "                \n",
        "            NOTE: see where something very similar is done in the lab in function 'predictByUserAverage'    \n",
        "        \"\"\"\n",
        "        \n",
        "        predictionMatrix = np.zeros((num_users, num_items))\n",
        "        \n",
        "        # Initialize the predicted rating matrix with zeros\n",
        "        for (user,item), rating in np.ndenumerate(train_matrix):\n",
        "        # Predict rating for every item \n",
        "            # Extract the items the user already rated\n",
        "            userVector = train_matrix[user, :]\n",
        "            # Extract the items the user already rated\n",
        "            ratedItems = userVector[userVector.nonzero()]\n",
        "            \n",
        "            # If not empty, calculate average and set as rating for the current item\n",
        "            if ratedItems.size == 0:\n",
        "                itemAvg = 0\n",
        "            else:\n",
        "                itemAvg = ratedItems.mean()\n",
        "                predictionMatrix[user, item] = itemAvg\n",
        "\n",
        "        \n",
        "        return predictionMatrix\n",
        "    \n",
        "    @staticmethod\n",
        "    def popularity(train_matrix, num_users, num_items):\n",
        "        \"\"\"\n",
        "            INPUT:\n",
        "                train_matrix: 2D numpy array.\n",
        "                num_users: int. Number of Users.\n",
        "                num_items: int. Number of Items.\n",
        "            OUTPUT:\n",
        "                predictionMatrix: 2D numpy array.\n",
        "                \n",
        "            NOTE: see where something very similar is done in the lab in function 'predictByPopularity'    \n",
        "        \"\"\"\n",
        "        \n",
        "        predictionMatrix = np.zeros((num_users, num_items))\n",
        "        \n",
        "        # Define function for converting 1-5 rating to 0/1 (like / don't like)\n",
        "        vf = np.vectorize(lambda x: 1 if x >= 4 else 0)\n",
        "    \n",
        "        # For every item calculate the number of people liked (4-5) divided by the number of people that rated\n",
        "        itemPopularity = np.zeros((num_items))\n",
        "        for item in range(num_items):\n",
        "            numOfUsersRated = len(train_matrix[:, item].nonzero()[0])\n",
        "            numOfUsersLiked = len(vf(train_matrix[:, item]).nonzero()[0])\n",
        "            if numOfUsersRated == 0:\n",
        "                itemPopularity[item] = 0\n",
        "            else:\n",
        "                itemPopularity[item] = numOfUsersLiked/numOfUsersRated\n",
        "        # Predict rating for every item for the user\n",
        "        for (user,item), rating in np.ndenumerate(train_matrix):\n",
        "            predictionMatrix[user, item] = itemPopularity[item]\n",
        "\n",
        "                \n",
        "        \n",
        "        return predictionMatrix    \n",
        "    \n",
        "    def predict_all(self, train_df, num_users, num_items):\n",
        "        \n",
        "        train_matrix = self.processor(train_df, num_users, num_items)\n",
        "        self.__model = self.method(train_matrix, num_users, num_items)\n",
        "        \n",
        "    def evaluate_test(self, test_df, copy=False):\n",
        "        \n",
        "        if copy:\n",
        "            prediction = test_df.copy()\n",
        "        else:\n",
        "            prediction = test_df\n",
        "            \n",
        "        prediction[self.pred_column_name] = np.nan\n",
        "        \n",
        "        for (index, \n",
        "             userID, \n",
        "             itemID) in tqdm(prediction[['userID','itemID']].itertuples()):\n",
        "            prediction.loc[index, self.pred_column_name] = self.__model[userID-1, itemID-1]\n",
        "\n",
        "        return prediction\n",
        "        \n",
        "    def getModel(self):\n",
        "        \"\"\"\n",
        "            return predicted user-item matrix\n",
        "        \"\"\"\n",
        "        return self.__model\n",
        "    \n",
        "    def getPredColName(self):\n",
        "        \"\"\"\n",
        "            return prediction column name\n",
        "        \"\"\"\n",
        "        return self.pred_column_name\n",
        "    \n",
        "    def reset(self):\n",
        "        \"\"\"\n",
        "            reuse the instance of the class by removing model\n",
        "        \"\"\"\n",
        "        try:\n",
        "            self.model = None\n",
        "        except:\n",
        "            print(\"You don not have model..\")\n",
        "            "
      ],
      "execution_count": 0,
      "outputs": []
    },
    {
      "cell_type": "code",
      "metadata": {
        "id": "XgDw3ALnzdtX",
        "colab_type": "code",
        "colab": {}
      },
      "source": [
        "popularity_recsys = BaseLineRecSys('popularity')"
      ],
      "execution_count": 0,
      "outputs": []
    },
    {
      "cell_type": "code",
      "metadata": {
        "id": "wJd50FSdzdta",
        "colab_type": "code",
        "colab": {}
      },
      "source": [
        "popularity_recsys.predict_all(rating_df, num_users, num_items)"
      ],
      "execution_count": 0,
      "outputs": []
    },
    {
      "cell_type": "code",
      "metadata": {
        "id": "C5TJkUaszdtc",
        "colab_type": "code",
        "outputId": "e1ce5d04-0ba3-428c-af8c-b1c8731379c2",
        "colab": {
          "base_uri": "https://localhost:8080/",
          "height": 248
        }
      },
      "source": [
        "x = popularity_recsys.getModel()"
      ],
      "execution_count": 0,
      "outputs": [
        {
          "output_type": "execute_result",
          "data": {
            "text/plain": [
              "array([[0.71017699, 0.38931298, 0.37777778, ..., 0.        , 0.        ,\n",
              "        0.        ],\n",
              "       [0.71017699, 0.38931298, 0.37777778, ..., 0.        , 0.        ,\n",
              "        0.        ],\n",
              "       [0.71017699, 0.38931298, 0.37777778, ..., 0.        , 0.        ,\n",
              "        0.        ],\n",
              "       ...,\n",
              "       [0.71017699, 0.38931298, 0.37777778, ..., 0.        , 0.        ,\n",
              "        0.        ],\n",
              "       [0.71017699, 0.38931298, 0.37777778, ..., 0.        , 0.        ,\n",
              "        0.        ],\n",
              "       [0.71017699, 0.38931298, 0.37777778, ..., 0.        , 0.        ,\n",
              "        0.        ]])"
            ]
          },
          "metadata": {
            "tags": []
          },
          "execution_count": 19
        }
      ]
    },
    {
      "cell_type": "code",
      "metadata": {
        "id": "HN8r3Obtzdtg",
        "colab_type": "code",
        "outputId": "c3162aab-496f-4151-c597-d633671b04f8",
        "colab": {
          "base_uri": "https://localhost:8080/",
          "height": 35
        }
      },
      "source": [
        "np.all(x<=1)"
      ],
      "execution_count": 0,
      "outputs": [
        {
          "output_type": "execute_result",
          "data": {
            "text/plain": [
              "True"
            ]
          },
          "metadata": {
            "tags": []
          },
          "execution_count": 15
        }
      ]
    },
    {
      "cell_type": "code",
      "metadata": {
        "id": "oZDsDg5Gzdtj",
        "colab_type": "code",
        "outputId": "0bbcacaa-27f6-4a40-900f-38b9b5486f0b",
        "colab": {
          "base_uri": "https://localhost:8080/",
          "height": 200
        }
      },
      "source": [
        "rating_df.head()"
      ],
      "execution_count": 0,
      "outputs": [
        {
          "output_type": "execute_result",
          "data": {
            "text/html": [
              "<div>\n",
              "<style scoped>\n",
              "    .dataframe tbody tr th:only-of-type {\n",
              "        vertical-align: middle;\n",
              "    }\n",
              "\n",
              "    .dataframe tbody tr th {\n",
              "        vertical-align: top;\n",
              "    }\n",
              "\n",
              "    .dataframe thead th {\n",
              "        text-align: right;\n",
              "    }\n",
              "</style>\n",
              "<table border=\"1\" class=\"dataframe\">\n",
              "  <thead>\n",
              "    <tr style=\"text-align: right;\">\n",
              "      <th></th>\n",
              "      <th>userID</th>\n",
              "      <th>itemID</th>\n",
              "      <th>rating</th>\n",
              "      <th>timestamp</th>\n",
              "    </tr>\n",
              "  </thead>\n",
              "  <tbody>\n",
              "    <tr>\n",
              "      <th>0</th>\n",
              "      <td>196</td>\n",
              "      <td>242</td>\n",
              "      <td>3</td>\n",
              "      <td>881250949</td>\n",
              "    </tr>\n",
              "    <tr>\n",
              "      <th>1</th>\n",
              "      <td>186</td>\n",
              "      <td>302</td>\n",
              "      <td>3</td>\n",
              "      <td>891717742</td>\n",
              "    </tr>\n",
              "    <tr>\n",
              "      <th>2</th>\n",
              "      <td>22</td>\n",
              "      <td>377</td>\n",
              "      <td>1</td>\n",
              "      <td>878887116</td>\n",
              "    </tr>\n",
              "    <tr>\n",
              "      <th>3</th>\n",
              "      <td>244</td>\n",
              "      <td>51</td>\n",
              "      <td>2</td>\n",
              "      <td>880606923</td>\n",
              "    </tr>\n",
              "    <tr>\n",
              "      <th>4</th>\n",
              "      <td>166</td>\n",
              "      <td>346</td>\n",
              "      <td>1</td>\n",
              "      <td>886397596</td>\n",
              "    </tr>\n",
              "  </tbody>\n",
              "</table>\n",
              "</div>"
            ],
            "text/plain": [
              "   userID  itemID  rating  timestamp\n",
              "0     196     242       3  881250949\n",
              "1     186     302       3  891717742\n",
              "2      22     377       1  878887116\n",
              "3     244      51       2  880606923\n",
              "4     166     346       1  886397596"
            ]
          },
          "metadata": {
            "tags": []
          },
          "execution_count": 16
        }
      ]
    },
    {
      "cell_type": "code",
      "metadata": {
        "id": "p60BEmn-zdtm",
        "colab_type": "code",
        "outputId": "d18e1723-c456-4f17-fc4d-1bdff2332851",
        "colab": {
          "base_uri": "https://localhost:8080/",
          "height": 218
        }
      },
      "source": [
        "popularity_recsys.evaluate_test(rating_df,copy=True).head()"
      ],
      "execution_count": 0,
      "outputs": [
        {
          "output_type": "stream",
          "text": [
            "100000it [01:23, 1200.96it/s]\n"
          ],
          "name": "stderr"
        },
        {
          "output_type": "execute_result",
          "data": {
            "text/html": [
              "<div>\n",
              "<style scoped>\n",
              "    .dataframe tbody tr th:only-of-type {\n",
              "        vertical-align: middle;\n",
              "    }\n",
              "\n",
              "    .dataframe tbody tr th {\n",
              "        vertical-align: top;\n",
              "    }\n",
              "\n",
              "    .dataframe thead th {\n",
              "        text-align: right;\n",
              "    }\n",
              "</style>\n",
              "<table border=\"1\" class=\"dataframe\">\n",
              "  <thead>\n",
              "    <tr style=\"text-align: right;\">\n",
              "      <th></th>\n",
              "      <th>userID</th>\n",
              "      <th>itemID</th>\n",
              "      <th>rating</th>\n",
              "      <th>timestamp</th>\n",
              "      <th>popularity</th>\n",
              "    </tr>\n",
              "  </thead>\n",
              "  <tbody>\n",
              "    <tr>\n",
              "      <th>0</th>\n",
              "      <td>196</td>\n",
              "      <td>242</td>\n",
              "      <td>3</td>\n",
              "      <td>881250949</td>\n",
              "      <td>0.760684</td>\n",
              "    </tr>\n",
              "    <tr>\n",
              "      <th>1</th>\n",
              "      <td>186</td>\n",
              "      <td>302</td>\n",
              "      <td>3</td>\n",
              "      <td>891717742</td>\n",
              "      <td>0.804714</td>\n",
              "    </tr>\n",
              "    <tr>\n",
              "      <th>2</th>\n",
              "      <td>22</td>\n",
              "      <td>377</td>\n",
              "      <td>1</td>\n",
              "      <td>878887116</td>\n",
              "      <td>0.076923</td>\n",
              "    </tr>\n",
              "    <tr>\n",
              "      <th>3</th>\n",
              "      <td>244</td>\n",
              "      <td>51</td>\n",
              "      <td>2</td>\n",
              "      <td>880606923</td>\n",
              "      <td>0.555556</td>\n",
              "    </tr>\n",
              "    <tr>\n",
              "      <th>4</th>\n",
              "      <td>166</td>\n",
              "      <td>346</td>\n",
              "      <td>1</td>\n",
              "      <td>886397596</td>\n",
              "      <td>0.611111</td>\n",
              "    </tr>\n",
              "  </tbody>\n",
              "</table>\n",
              "</div>"
            ],
            "text/plain": [
              "   userID  itemID  rating  timestamp  popularity\n",
              "0     196     242       3  881250949    0.760684\n",
              "1     186     302       3  891717742    0.804714\n",
              "2      22     377       1  878887116    0.076923\n",
              "3     244      51       2  880606923    0.555556\n",
              "4     166     346       1  886397596    0.611111"
            ]
          },
          "metadata": {
            "tags": []
          },
          "execution_count": 17
        }
      ]
    },
    {
      "cell_type": "code",
      "metadata": {
        "id": "xDu_THj3zdtp",
        "colab_type": "code",
        "colab": {}
      },
      "source": [
        "average_user_rating_recsys = BaseLineRecSys('useraverage')"
      ],
      "execution_count": 0,
      "outputs": []
    },
    {
      "cell_type": "code",
      "metadata": {
        "id": "gQWmspQGzdtr",
        "colab_type": "code",
        "colab": {}
      },
      "source": [
        "average_user_rating_recsys.predict_all(rating_df, num_users, num_items)"
      ],
      "execution_count": 0,
      "outputs": []
    },
    {
      "cell_type": "code",
      "metadata": {
        "id": "yl8uLyIqzdty",
        "colab_type": "code",
        "outputId": "76440feb-abed-4151-acb2-2bef3aa7ccba",
        "colab": {
          "base_uri": "https://localhost:8080/",
          "height": 254
        }
      },
      "source": [
        "average_user_rating_recsys.getModel()"
      ],
      "execution_count": 0,
      "outputs": [
        {
          "output_type": "execute_result",
          "data": {
            "text/plain": [
              "array([[3.61029412, 3.61029412, 3.61029412, ..., 3.61029412, 3.61029412,\n",
              "        3.61029412],\n",
              "       [3.70967742, 3.70967742, 3.70967742, ..., 3.70967742, 3.70967742,\n",
              "        3.70967742],\n",
              "       [2.7962963 , 2.7962963 , 2.7962963 , ..., 2.7962963 , 2.7962963 ,\n",
              "        2.7962963 ],\n",
              "       ...,\n",
              "       [4.04545455, 4.04545455, 4.04545455, ..., 4.04545455, 4.04545455,\n",
              "        4.04545455],\n",
              "       [4.26582278, 4.26582278, 4.26582278, ..., 4.26582278, 4.26582278,\n",
              "        4.26582278],\n",
              "       [3.41071429, 3.41071429, 3.41071429, ..., 3.41071429, 3.41071429,\n",
              "        3.41071429]])"
            ]
          },
          "metadata": {
            "tags": []
          },
          "execution_count": 19
        }
      ]
    },
    {
      "cell_type": "code",
      "metadata": {
        "id": "arSCkkxozdt4",
        "colab_type": "code",
        "outputId": "2ee7f248-a1ac-47ca-b5d7-6a7369a1040a",
        "colab": {
          "base_uri": "https://localhost:8080/",
          "height": 216
        }
      },
      "source": [
        "average_user_rating_recsys.evaluate_test(rating_df,copy=True).head()"
      ],
      "execution_count": 0,
      "outputs": [
        {
          "output_type": "stream",
          "text": [
            "100000it [01:26, 1159.11it/s]\n"
          ],
          "name": "stderr"
        },
        {
          "output_type": "execute_result",
          "data": {
            "text/html": [
              "<div>\n",
              "<style scoped>\n",
              "    .dataframe tbody tr th:only-of-type {\n",
              "        vertical-align: middle;\n",
              "    }\n",
              "\n",
              "    .dataframe tbody tr th {\n",
              "        vertical-align: top;\n",
              "    }\n",
              "\n",
              "    .dataframe thead th {\n",
              "        text-align: right;\n",
              "    }\n",
              "</style>\n",
              "<table border=\"1\" class=\"dataframe\">\n",
              "  <thead>\n",
              "    <tr style=\"text-align: right;\">\n",
              "      <th></th>\n",
              "      <th>userID</th>\n",
              "      <th>itemID</th>\n",
              "      <th>rating</th>\n",
              "      <th>timestamp</th>\n",
              "      <th>useraverage</th>\n",
              "    </tr>\n",
              "  </thead>\n",
              "  <tbody>\n",
              "    <tr>\n",
              "      <th>0</th>\n",
              "      <td>196</td>\n",
              "      <td>242</td>\n",
              "      <td>3</td>\n",
              "      <td>881250949</td>\n",
              "      <td>3.615385</td>\n",
              "    </tr>\n",
              "    <tr>\n",
              "      <th>1</th>\n",
              "      <td>186</td>\n",
              "      <td>302</td>\n",
              "      <td>3</td>\n",
              "      <td>891717742</td>\n",
              "      <td>3.413043</td>\n",
              "    </tr>\n",
              "    <tr>\n",
              "      <th>2</th>\n",
              "      <td>22</td>\n",
              "      <td>377</td>\n",
              "      <td>1</td>\n",
              "      <td>878887116</td>\n",
              "      <td>3.351562</td>\n",
              "    </tr>\n",
              "    <tr>\n",
              "      <th>3</th>\n",
              "      <td>244</td>\n",
              "      <td>51</td>\n",
              "      <td>2</td>\n",
              "      <td>880606923</td>\n",
              "      <td>3.651261</td>\n",
              "    </tr>\n",
              "    <tr>\n",
              "      <th>4</th>\n",
              "      <td>166</td>\n",
              "      <td>346</td>\n",
              "      <td>1</td>\n",
              "      <td>886397596</td>\n",
              "      <td>3.550000</td>\n",
              "    </tr>\n",
              "  </tbody>\n",
              "</table>\n",
              "</div>"
            ],
            "text/plain": [
              "   userID  itemID  rating  timestamp  useraverage\n",
              "0     196     242       3  881250949     3.615385\n",
              "1     186     302       3  891717742     3.413043\n",
              "2      22     377       1  878887116     3.351562\n",
              "3     244      51       2  880606923     3.651261\n",
              "4     166     346       1  886397596     3.550000"
            ]
          },
          "metadata": {
            "tags": []
          },
          "execution_count": 20
        }
      ]
    },
    {
      "cell_type": "markdown",
      "metadata": {
        "id": "u_RlOlrIzdt7",
        "colab_type": "text"
      },
      "source": [
        "## Similarity in Collaborative Filtering"
      ]
    },
    {
      "cell_type": "markdown",
      "metadata": {
        "id": "I4zY0XYDzdt7",
        "colab_type": "text"
      },
      "source": [
        "### (a) Cosine, Euclidean and Manhattan distance metrics"
      ]
    },
    {
      "cell_type": "code",
      "metadata": {
        "id": "GEQ_IkS3zdt8",
        "colab_type": "code",
        "colab": {}
      },
      "source": [
        "class SimBasedRecSys(object):\n",
        "\n",
        "    def __init__(self, base, method, processor=dataPreprocessor):\n",
        "        \"\"\"\n",
        "            base: string. From ['user', 'item']. User-based Similarity or Item-based\n",
        "            method: string. From ['cosine', 'euclidean', 'somethingelse']\n",
        "            processor: function name. dataPreprocessor by default\n",
        "        \"\"\"\n",
        "        self.base = base\n",
        "        self.method_name = method\n",
        "        self.method = self._getMethod(self.method_name)\n",
        "        self.processor = processor\n",
        "        self.pred_column_name = self.base+'-'+self.method_name\n",
        "    \n",
        "    def _getMethod(self, method_name):\n",
        "        \"\"\"\n",
        "            Don't change this\n",
        "        \"\"\"\n",
        "        switcher = {\n",
        "            'cosine': self.cosine,\n",
        "            'euclidean': self.euclidean,\n",
        "            'somethingelse': self.somethingelse,\n",
        "        }\n",
        "        \n",
        "        return switcher[method_name]\n",
        "    \n",
        "    @staticmethod\n",
        "    def cosine(matrix):\n",
        "        \"\"\"\n",
        "            cosine similarity\n",
        "        \"\"\"\n",
        "        similarity_matrix = 1 - pairwise_distances(matrix, metric='cosine')\n",
        "        return similarity_matrix\n",
        "    \n",
        "    @staticmethod\n",
        "    def euclidean(matrix):\n",
        "        \"\"\"\n",
        "            euclidean similarity\n",
        "        \"\"\"\n",
        "        \n",
        "\n",
        "        similarity_matrix = 1 / (1 + pairwise_distances(matrix, metric = 'euclidean'))\n",
        "    \n",
        "            \n",
        "        \n",
        "        return similarity_matrix\n",
        "    \n",
        "    @staticmethod\n",
        "    def somethingelse(matrix):\n",
        "        \"\"\"\n",
        "            manhattan? or super-natural intuition similarity\n",
        "        \"\"\"\n",
        "        \n",
        "        \n",
        "        similarity_matrix = 1 / (1 + pairwise_distances(matrix, metric = 'manhattan'))\n",
        "    \n",
        "               \n",
        "        return similarity_matrix\n",
        "        \n",
        "    def predict_all(self, train_df, num_users, num_items):\n",
        "        \"\"\"\n",
        "            INPUT: \n",
        "                data: pandas DataFrame. columns=['userID', 'itemID', 'rating'...]\n",
        "                num_row: scalar. number of users\n",
        "                num_col: scalar. number of items\n",
        "            OUTPUT:\n",
        "                no return... this method assigns the result to self.model\n",
        "            \n",
        "            NOTES:\n",
        "                self.__model should contain predictions for *all* user and items\n",
        "                (don't worry about predicting for observed (user,item) pairs,\n",
        "                 since we won't be using these predictions in the evaluation)\n",
        "                (see code in for an efficient vectorized example)\n",
        "        \"\"\"\n",
        "        train_matrix = self.processor(train_df, num_users, num_items)\n",
        "        \n",
        "        if self.base == 'user':\n",
        "            \n",
        "            # Initialize the predicted rating matrix with zeros\n",
        "            temp_matrix = np.zeros(train_matrix.shape)\n",
        "            temp_matrix[train_matrix.nonzero()] = 1\n",
        "            uu_similarity = self.method(train_matrix)\n",
        "            # UxI: UxU mul UxI\n",
        "            normalizer = np.matmul(uu_similarity, temp_matrix)\n",
        "            #print(normalizer)\n",
        "            normalizer[normalizer == 0] = 1e-5\n",
        "            #what's the dimension of np.matmul(uu_similarity, trainSet)\n",
        "    \n",
        "            predictionMatrix = np.matmul(uu_similarity, train_matrix)/normalizer #dimension: U X I\n",
        "            #predictionMatrix[temp_matrix.nonzero()] = 0\n",
        "             \n",
        "            useraverage = np.sum(train_matrix, axis=1)/(np.sum(temp_matrix, axis=1)+1e-5)\n",
        "            columns = np.sum(predictionMatrix, axis=0)\n",
        "            #print(columns.shape)\n",
        "            predictionMatrix[:, columns==0] = predictionMatrix[:, columns==0] + np.expand_dims(useraverage, axis=1)\n",
        "            self.__model = predictionMatrix\n",
        "            \n",
        "            \n",
        "        elif self.base == 'item':\n",
        "            \n",
        "            train_matrix = train_matrix.T\n",
        "            temp_matrix = np.zeros(train_matrix.shape)\n",
        "            temp_matrix[train_matrix.nonzero()] = 1\n",
        "            ii_similarity = self.method(train_matrix)\n",
        "            # UxI: UxU mul UxI\n",
        "            normalizer = np.matmul(ii_similarity, temp_matrix)\n",
        "            #print(normalizer)\n",
        "            normalizer[normalizer == 0] = 1e-5\n",
        "            #what's the dimension of np.matmul(uu_similarity, trainSet)\n",
        "    \n",
        "            predictionMatrix = np.matmul(ii_similarity, train_matrix)/normalizer #dimension: U X I\n",
        "            #predictionMatrix[temp_matrix.nonzero()] = 0\n",
        "             \n",
        "            itemaverage = np.sum(train_matrix, axis=1)/(np.sum(temp_matrix, axis=1)+1e-5)\n",
        "            columns = np.sum(predictionMatrix, axis=0)\n",
        "            #print(columns.shape)\n",
        "            predictionMatrix[:, columns==0] = predictionMatrix[:, columns==0] + np.expand_dims(itemaverage, axis=1)\n",
        "            self.__model = predictionMatrix.T\n",
        "            \n",
        "        else:\n",
        "            print('No other option available')\n",
        "        \n",
        "    def evaluate_test(self, test_df, copy=False):\n",
        "        \"\"\"\n",
        "            INPUT:\n",
        "                data: pandas DataFrame. columns=['userID', 'itemID', 'rating'...]\n",
        "            OUTPUT:\n",
        "                predictions:  pandas DataFrame. \n",
        "                              columns=['userID', 'itemID', 'rating', 'base-method'...]\n",
        "                              \n",
        "            NOTE: 1. data can have more columns, but your function should ignore \n",
        "                  additional columns.\n",
        "                  2. 'base-method' depends on your 'base' and 'method'. For example,\n",
        "                  if base == 'user' and method == 'cosine', \n",
        "                  then base-method == 'user-cosine'\n",
        "                  3. your predictions go to 'base-method' column\n",
        "        \"\"\"\n",
        "        if copy:\n",
        "            prediction = test_df.copy()\n",
        "        else:\n",
        "            prediction = test_df\n",
        "        prediction[self.pred_column_name] = np.nan\n",
        "        \n",
        "        for (index, \n",
        "             userID, \n",
        "             itemID) in tqdm(prediction[['userID','itemID']].itertuples()):\n",
        "            prediction.loc[index, self.pred_column_name] = self.__model[userID-1, itemID-1]\n",
        "    \n",
        "        return prediction\n",
        "    \n",
        "    def getModel(self):\n",
        "        \"\"\"\n",
        "            return predicted user-item matrix\n",
        "        \"\"\"\n",
        "        return self.__model\n",
        "    \n",
        "    def getPredColName(self):\n",
        "        \"\"\"\n",
        "            return prediction column name\n",
        "        \"\"\"\n",
        "        return self.pred_column_name\n",
        "    \n",
        "    def reset(self):\n",
        "        \"\"\"\n",
        "            reuse the instance of the class by removing model\n",
        "        \"\"\"\n",
        "        try:\n",
        "            self.model = None\n",
        "        except:\n",
        "            print(\"You do not have model..\")"
      ],
      "execution_count": 0,
      "outputs": []
    },
    {
      "cell_type": "markdown",
      "metadata": {
        "id": "KEDOdlnNn83x",
        "colab_type": "text"
      },
      "source": [
        "Cosine metric works better. Euclidean distance measures the distance between two end points of vector, which is largely affected by the magnitude of the vectors.Cosine measures the angle between two vectors.\n"
      ]
    },
    {
      "cell_type": "code",
      "metadata": {
        "id": "RROHVWRpzduA",
        "colab_type": "code",
        "outputId": "61fd5b4e-ae4c-414d-9d7a-9a12691efea1",
        "colab": {
          "base_uri": "https://localhost:8080/",
          "height": 70
        }
      },
      "source": [
        "# Examples of how to call similarity functions.\n",
        "I = np.eye(3)\n",
        "SimBasedRecSys.cosine(I)"
      ],
      "execution_count": 0,
      "outputs": [
        {
          "output_type": "execute_result",
          "data": {
            "text/plain": [
              "array([[1., 0., 0.],\n",
              "       [0., 1., 0.],\n",
              "       [0., 0., 1.]])"
            ]
          },
          "metadata": {
            "tags": []
          },
          "execution_count": 106
        }
      ]
    },
    {
      "cell_type": "code",
      "metadata": {
        "id": "ZQ5BkzGPzduC",
        "colab_type": "code",
        "outputId": "a10da927-a389-49c5-af58-101b1edaea34",
        "colab": {
          "base_uri": "https://localhost:8080/",
          "height": 70
        }
      },
      "source": [
        "SimBasedRecSys.euclidean(I)"
      ],
      "execution_count": 0,
      "outputs": [
        {
          "output_type": "execute_result",
          "data": {
            "text/plain": [
              "array([[1.        , 0.41421356, 0.41421356],\n",
              "       [0.41421356, 1.        , 0.41421356],\n",
              "       [0.41421356, 0.41421356, 1.        ]])"
            ]
          },
          "metadata": {
            "tags": []
          },
          "execution_count": 107
        }
      ]
    },
    {
      "cell_type": "code",
      "metadata": {
        "id": "2V-L-T-PzduF",
        "colab_type": "code",
        "outputId": "9a9ffa84-a09f-4e9b-d23b-707850e55bbd",
        "colab": {
          "base_uri": "https://localhost:8080/",
          "height": 70
        }
      },
      "source": [
        "SimBasedRecSys.somethingelse(I)"
      ],
      "execution_count": 0,
      "outputs": [
        {
          "output_type": "execute_result",
          "data": {
            "text/plain": [
              "array([[1.        , 0.33333333, 0.33333333],\n",
              "       [0.33333333, 1.        , 0.33333333],\n",
              "       [0.33333333, 0.33333333, 1.        ]])"
            ]
          },
          "metadata": {
            "tags": []
          },
          "execution_count": 108
        }
      ]
    },
    {
      "cell_type": "markdown",
      "metadata": {
        "colab_type": "text",
        "id": "_c9cq0p7Q-Lh"
      },
      "source": [
        "Manhattan distance defines the similarity measure as the distance along the scale of each variable and is preferable for high dimension data which is not comparable from each other."
      ]
    },
    {
      "cell_type": "markdown",
      "metadata": {
        "id": "qDrJogepzduL",
        "colab_type": "text"
      },
      "source": [
        "## Collaborative Filtering"
      ]
    },
    {
      "cell_type": "markdown",
      "metadata": {
        "id": "1Ju9mZE9zduM",
        "colab_type": "text"
      },
      "source": [
        "### (a) implement user-user and item-item based collaborative \fltering algorithms"
      ]
    },
    {
      "cell_type": "code",
      "metadata": {
        "id": "zAaSIC3BzduM",
        "colab_type": "code",
        "colab": {}
      },
      "source": [
        "user_cosine_recsys = SimBasedRecSys('user','cosine')"
      ],
      "execution_count": 0,
      "outputs": []
    },
    {
      "cell_type": "code",
      "metadata": {
        "id": "dBGVr2_JzduQ",
        "colab_type": "code",
        "colab": {}
      },
      "source": [
        "user_cosine_recsys.predict_all(rating_df, num_users, num_items)"
      ],
      "execution_count": 0,
      "outputs": []
    },
    {
      "cell_type": "code",
      "metadata": {
        "id": "isW4B7nfzduW",
        "colab_type": "code",
        "colab": {}
      },
      "source": [
        "user_cosine_recsys.getModel()\n",
        "#shape:943*1682"
      ],
      "execution_count": 0,
      "outputs": []
    },
    {
      "cell_type": "code",
      "metadata": {
        "id": "wdxjAZJrzdud",
        "colab_type": "code",
        "outputId": "0ec1539a-dfc3-4537-fa6b-4341ed798192",
        "colab": {
          "base_uri": "https://localhost:8080/",
          "height": 200
        }
      },
      "source": [
        "rating_df.head()"
      ],
      "execution_count": 0,
      "outputs": [
        {
          "output_type": "execute_result",
          "data": {
            "text/html": [
              "<div>\n",
              "<style scoped>\n",
              "    .dataframe tbody tr th:only-of-type {\n",
              "        vertical-align: middle;\n",
              "    }\n",
              "\n",
              "    .dataframe tbody tr th {\n",
              "        vertical-align: top;\n",
              "    }\n",
              "\n",
              "    .dataframe thead th {\n",
              "        text-align: right;\n",
              "    }\n",
              "</style>\n",
              "<table border=\"1\" class=\"dataframe\">\n",
              "  <thead>\n",
              "    <tr style=\"text-align: right;\">\n",
              "      <th></th>\n",
              "      <th>userID</th>\n",
              "      <th>itemID</th>\n",
              "      <th>rating</th>\n",
              "      <th>timestamp</th>\n",
              "    </tr>\n",
              "  </thead>\n",
              "  <tbody>\n",
              "    <tr>\n",
              "      <th>0</th>\n",
              "      <td>196</td>\n",
              "      <td>242</td>\n",
              "      <td>3</td>\n",
              "      <td>881250949</td>\n",
              "    </tr>\n",
              "    <tr>\n",
              "      <th>1</th>\n",
              "      <td>186</td>\n",
              "      <td>302</td>\n",
              "      <td>3</td>\n",
              "      <td>891717742</td>\n",
              "    </tr>\n",
              "    <tr>\n",
              "      <th>2</th>\n",
              "      <td>22</td>\n",
              "      <td>377</td>\n",
              "      <td>1</td>\n",
              "      <td>878887116</td>\n",
              "    </tr>\n",
              "    <tr>\n",
              "      <th>3</th>\n",
              "      <td>244</td>\n",
              "      <td>51</td>\n",
              "      <td>2</td>\n",
              "      <td>880606923</td>\n",
              "    </tr>\n",
              "    <tr>\n",
              "      <th>4</th>\n",
              "      <td>166</td>\n",
              "      <td>346</td>\n",
              "      <td>1</td>\n",
              "      <td>886397596</td>\n",
              "    </tr>\n",
              "  </tbody>\n",
              "</table>\n",
              "</div>"
            ],
            "text/plain": [
              "   userID  itemID  rating  timestamp\n",
              "0     196     242       3  881250949\n",
              "1     186     302       3  891717742\n",
              "2      22     377       1  878887116\n",
              "3     244      51       2  880606923\n",
              "4     166     346       1  886397596"
            ]
          },
          "metadata": {
            "tags": []
          },
          "execution_count": 112
        }
      ]
    },
    {
      "cell_type": "code",
      "metadata": {
        "scrolled": true,
        "id": "yc2PgKylzdug",
        "colab_type": "code",
        "outputId": "d1435c12-6207-45ae-8db6-b44789df10fa",
        "colab": {
          "base_uri": "https://localhost:8080/",
          "height": 1000
        }
      },
      "source": [
        "user_cosine_recsys.evaluate_test(rating_df,copy=True).head()"
      ],
      "execution_count": 0,
      "outputs": [
        {
          "output_type": "stream",
          "text": [
            "\n",
            "0it [00:00, ?it/s]\u001b[A\n",
            "104it [00:00, 1039.55it/s]\u001b[A\n",
            "208it [00:00, 1037.32it/s]\u001b[A\n",
            "314it [00:00, 1044.02it/s]\u001b[A\n",
            "422it [00:00, 1054.41it/s]\u001b[A\n",
            "529it [00:00, 1056.50it/s]\u001b[A\n",
            "634it [00:00, 1051.30it/s]\u001b[A\n",
            "733it [00:00, 1029.32it/s]\u001b[A\n",
            "839it [00:00, 1035.28it/s]\u001b[A\n",
            "945it [00:00, 1042.16it/s]\u001b[A\n",
            "1049it [00:01, 1040.77it/s]\u001b[A\n",
            "1151it [00:01, 1022.76it/s]\u001b[A\n",
            "1255it [00:01, 1026.90it/s]\u001b[A\n",
            "1361it [00:01, 1033.56it/s]\u001b[A\n",
            "1464it [00:01, 1023.14it/s]\u001b[A\n",
            "1571it [00:01, 1034.31it/s]\u001b[A\n",
            "1680it [00:01, 1049.63it/s]\u001b[A\n",
            "1785it [00:01, 1045.29it/s]\u001b[A\n",
            "1890it [00:01, 1041.15it/s]\u001b[A\n",
            "1995it [00:01, 1033.43it/s]\u001b[A\n",
            "2099it [00:02, 1031.81it/s]\u001b[A\n",
            "2205it [00:02, 1037.51it/s]\u001b[A\n",
            "2311it [00:02, 1044.10it/s]\u001b[A\n",
            "2418it [00:02, 1049.65it/s]\u001b[A\n",
            "2524it [00:02, 1051.54it/s]\u001b[A\n",
            "2630it [00:02, 1044.49it/s]\u001b[A\n",
            "2735it [00:02, 1039.68it/s]\u001b[A\n",
            "2839it [00:02, 1027.64it/s]\u001b[A\n",
            "2942it [00:02, 1013.92it/s]\u001b[A\n",
            "3044it [00:02, 987.34it/s] \u001b[A\n",
            "3143it [00:03, 972.90it/s]\u001b[A\n",
            "3247it [00:03, 990.26it/s]\u001b[A\n",
            "3347it [00:03, 992.77it/s]\u001b[A\n",
            "3453it [00:03, 1009.90it/s]\u001b[A\n",
            "3555it [00:03, 1007.37it/s]\u001b[A\n",
            "3658it [00:03, 1013.91it/s]\u001b[A\n",
            "3761it [00:03, 1018.37it/s]\u001b[A\n",
            "3863it [00:03, 1009.28it/s]\u001b[A\n",
            "3964it [00:03, 1001.04it/s]\u001b[A\n",
            "4065it [00:03, 996.16it/s] \u001b[A\n",
            "4172it [00:04, 1016.05it/s]\u001b[A\n",
            "4274it [00:04, 1013.37it/s]\u001b[A\n",
            "4381it [00:04, 1028.51it/s]\u001b[A\n",
            "4484it [00:04, 1014.49it/s]\u001b[A\n",
            "4586it [00:04, 1010.90it/s]\u001b[A\n",
            "4689it [00:04, 1014.55it/s]\u001b[A\n",
            "4791it [00:04, 997.72it/s] \u001b[A\n",
            "4891it [00:04, 992.35it/s]\u001b[A\n",
            "4997it [00:04, 1009.42it/s]\u001b[A\n",
            "5099it [00:05, 953.20it/s] \u001b[A\n",
            "5199it [00:05, 966.42it/s]\u001b[A\n",
            "5300it [00:05, 976.63it/s]\u001b[A\n",
            "5403it [00:05, 989.35it/s]\u001b[A\n",
            "5503it [00:05, 989.61it/s]\u001b[A\n",
            "5609it [00:05, 1007.05it/s]\u001b[A\n",
            "5715it [00:05, 1019.80it/s]\u001b[A\n",
            "5818it [00:05, 999.01it/s] \u001b[A\n",
            "5920it [00:05, 1004.59it/s]\u001b[A\n",
            "6023it [00:05, 1010.68it/s]\u001b[A\n",
            "6127it [00:06, 1018.87it/s]\u001b[A\n",
            "6231it [00:06, 1023.27it/s]\u001b[A\n",
            "6334it [00:06, 1018.48it/s]\u001b[A\n",
            "6438it [00:06, 1022.49it/s]\u001b[A\n",
            "6545it [00:06, 1035.01it/s]\u001b[A\n",
            "6650it [00:06, 1039.08it/s]\u001b[A\n",
            "6754it [00:06, 1034.72it/s]\u001b[A\n",
            "6858it [00:06, 1033.89it/s]\u001b[A\n",
            "6962it [00:06, 1014.29it/s]\u001b[A\n",
            "7064it [00:06, 1004.85it/s]\u001b[A\n",
            "7165it [00:07, 994.67it/s] \u001b[A\n",
            "7269it [00:07, 1007.23it/s]\u001b[A\n",
            "7374it [00:07, 1018.67it/s]\u001b[A\n",
            "7480it [00:07, 1028.03it/s]\u001b[A\n",
            "7588it [00:07, 1041.28it/s]\u001b[A\n",
            "7693it [00:07, 1043.78it/s]\u001b[A\n",
            "7800it [00:07, 1049.87it/s]\u001b[A\n",
            "7906it [00:07, 1039.72it/s]\u001b[A\n",
            "8011it [00:07, 1041.93it/s]\u001b[A\n",
            "8116it [00:07, 1014.79it/s]\u001b[A\n",
            "8218it [00:08, 1001.55it/s]\u001b[A\n",
            "8319it [00:08, 993.82it/s] \u001b[A\n",
            "8419it [00:08, 994.10it/s]\u001b[A\n",
            "8520it [00:08, 998.23it/s]\u001b[A\n",
            "8626it [00:08, 1014.88it/s]\u001b[A\n",
            "8731it [00:08, 1024.34it/s]\u001b[A\n",
            "8837it [00:08, 1032.85it/s]\u001b[A\n",
            "8941it [00:08, 1030.10it/s]\u001b[A\n",
            "9045it [00:08, 1030.62it/s]\u001b[A\n",
            "9149it [00:08, 1026.73it/s]\u001b[A\n",
            "9256it [00:09, 1038.83it/s]\u001b[A\n",
            "9362it [00:09, 1043.04it/s]\u001b[A\n",
            "9468it [00:09, 1045.12it/s]\u001b[A\n",
            "9573it [00:09, 1031.15it/s]\u001b[A\n",
            "9677it [00:09, 1027.16it/s]\u001b[A\n",
            "9784it [00:09, 1038.45it/s]\u001b[A\n",
            "9888it [00:09, 1038.66it/s]\u001b[A\n",
            "9992it [00:09, 1037.01it/s]\u001b[A\n",
            "10096it [00:09, 1023.81it/s]\u001b[A\n",
            "10202it [00:09, 1034.16it/s]\u001b[A\n",
            "10312it [00:10, 1051.48it/s]\u001b[A\n",
            "10418it [00:10, 1043.62it/s]\u001b[A\n",
            "10523it [00:10, 1043.70it/s]\u001b[A\n",
            "10628it [00:10, 1044.00it/s]\u001b[A\n",
            "10737it [00:10, 1052.49it/s]\u001b[A\n",
            "10843it [00:10, 1034.17it/s]\u001b[A\n",
            "10947it [00:10, 1025.86it/s]\u001b[A\n",
            "11050it [00:10, 1019.50it/s]\u001b[A\n",
            "11153it [00:10, 1019.52it/s]\u001b[A\n",
            "11258it [00:11, 1026.51it/s]\u001b[A\n",
            "11366it [00:11, 1041.99it/s]\u001b[A\n",
            "11471it [00:11, 1041.41it/s]\u001b[A\n",
            "11580it [00:11, 1054.43it/s]\u001b[A\n",
            "11686it [00:11, 1015.32it/s]\u001b[A\n",
            "11792it [00:11, 1027.21it/s]\u001b[A\n",
            "11897it [00:11, 1031.81it/s]\u001b[A\n",
            "12001it [00:11, 1020.79it/s]\u001b[A\n",
            "12104it [00:11, 1018.40it/s]\u001b[A\n",
            "12210it [00:11, 1029.74it/s]\u001b[A\n",
            "12314it [00:12, 1022.06it/s]\u001b[A\n",
            "12419it [00:12, 1028.89it/s]\u001b[A\n",
            "12523it [00:12, 1031.51it/s]\u001b[A\n",
            "12629it [00:12, 1039.61it/s]\u001b[A\n",
            "12734it [00:12, 1036.74it/s]\u001b[A\n",
            "12841it [00:12, 1046.16it/s]\u001b[A\n",
            "12946it [00:12, 1033.64it/s]\u001b[A\n",
            "13050it [00:12, 1032.38it/s]\u001b[A\n",
            "13154it [00:12, 1022.51it/s]\u001b[A\n",
            "13258it [00:12, 1024.82it/s]\u001b[A\n",
            "13361it [00:13, 1014.59it/s]\u001b[A\n",
            "13467it [00:13, 1026.02it/s]\u001b[A\n",
            "13570it [00:13, 1016.95it/s]\u001b[A\n",
            "13672it [00:13, 1009.84it/s]\u001b[A\n",
            "13774it [00:13, 1003.96it/s]\u001b[A\n",
            "13877it [00:13, 1011.03it/s]\u001b[A\n",
            "13983it [00:13, 1024.03it/s]\u001b[A\n",
            "14088it [00:13, 1030.24it/s]\u001b[A\n",
            "14192it [00:13, 1025.49it/s]\u001b[A\n",
            "14299it [00:13, 1036.38it/s]\u001b[A\n",
            "14403it [00:14, 1027.74it/s]\u001b[A\n",
            "14510it [00:14, 1038.31it/s]\u001b[A\n",
            "14614it [00:14, 1029.69it/s]\u001b[A\n",
            "14722it [00:14, 1042.01it/s]\u001b[A\n",
            "14829it [00:14, 1048.89it/s]\u001b[A\n",
            "14938it [00:14, 1059.47it/s]\u001b[A\n",
            "15045it [00:14, 1041.44it/s]\u001b[A\n",
            "15150it [00:14, 1041.65it/s]\u001b[A\n",
            "15255it [00:14, 1027.80it/s]\u001b[A\n",
            "15360it [00:14, 1033.77it/s]\u001b[A\n",
            "15464it [00:15, 1020.45it/s]\u001b[A\n",
            "15567it [00:15, 999.89it/s] \u001b[A\n",
            "15668it [00:15, 980.25it/s]\u001b[A\n",
            "15771it [00:15, 991.96it/s]\u001b[A\n",
            "15871it [00:15, 993.58it/s]\u001b[A\n",
            "15976it [00:15, 1009.34it/s]\u001b[A\n",
            "16078it [00:15, 1003.05it/s]\u001b[A\n",
            "16182it [00:15, 1013.32it/s]\u001b[A\n",
            "16284it [00:15, 1006.44it/s]\u001b[A\n",
            "16387it [00:16, 1013.39it/s]\u001b[A\n",
            "16491it [00:16, 1018.42it/s]\u001b[A\n",
            "16596it [00:16, 1026.74it/s]\u001b[A\n",
            "16699it [00:16, 1016.27it/s]\u001b[A\n",
            "16801it [00:16, 1011.49it/s]\u001b[A\n",
            "16903it [00:16, 1011.17it/s]\u001b[A\n",
            "17012it [00:16, 1031.25it/s]\u001b[A\n",
            "17116it [00:16, 1018.86it/s]\u001b[A\n",
            "17219it [00:16, 1010.07it/s]\u001b[A\n",
            "17321it [00:16, 1007.14it/s]\u001b[A\n",
            "17426it [00:17, 1018.63it/s]\u001b[A\n",
            "17534it [00:17, 1035.76it/s]\u001b[A\n",
            "17638it [00:17, 1030.49it/s]\u001b[A\n",
            "17742it [00:17, 1028.00it/s]\u001b[A\n",
            "17845it [00:17, 1021.50it/s]\u001b[A\n",
            "17949it [00:17, 1025.41it/s]\u001b[A\n",
            "18052it [00:17, 1019.63it/s]\u001b[A\n",
            "18155it [00:17, 1014.25it/s]\u001b[A\n",
            "18257it [00:17, 1005.19it/s]\u001b[A\n",
            "18361it [00:17, 1012.99it/s]\u001b[A\n",
            "18467it [00:18, 1023.99it/s]\u001b[A\n",
            "18576it [00:18, 1040.99it/s]\u001b[A\n",
            "18681it [00:18, 1030.27it/s]\u001b[A\n",
            "18786it [00:18, 1035.70it/s]\u001b[A\n",
            "18892it [00:18, 1042.67it/s]\u001b[A\n",
            "19001it [00:18, 1056.04it/s]\u001b[A\n",
            "19107it [00:18, 1055.56it/s]\u001b[A\n",
            "19216it [00:18, 1064.16it/s]\u001b[A\n",
            "19323it [00:18, 1057.39it/s]\u001b[A\n",
            "19429it [00:18, 1054.58it/s]\u001b[A\n",
            "19535it [00:19, 1042.71it/s]\u001b[A\n",
            "19642it [00:19, 1049.90it/s]\u001b[A\n",
            "19751it [00:19, 1059.43it/s]\u001b[A\n",
            "19858it [00:19, 1060.50it/s]\u001b[A\n",
            "19967it [00:19, 1067.96it/s]\u001b[A\n",
            "20074it [00:19, 1046.74it/s]\u001b[A\n",
            "20179it [00:19, 1024.27it/s]\u001b[A\n",
            "20282it [00:19, 1021.19it/s]\u001b[A\n",
            "20386it [00:19, 1025.24it/s]\u001b[A\n",
            "20490it [00:19, 1028.06it/s]\u001b[A\n",
            "20598it [00:20, 1040.82it/s]\u001b[A\n",
            "20703it [00:20, 1038.37it/s]\u001b[A\n",
            "20811it [00:20, 1049.30it/s]\u001b[A\n",
            "20920it [00:20, 1060.79it/s]\u001b[A\n",
            "21027it [00:20, 1055.45it/s]\u001b[A\n",
            "21135it [00:20, 1061.42it/s]\u001b[A\n",
            "21242it [00:20, 1049.18it/s]\u001b[A\n",
            "21350it [00:20, 1056.63it/s]\u001b[A\n",
            "21456it [00:20, 1041.81it/s]\u001b[A\n",
            "21561it [00:21, 1040.87it/s]\u001b[A\n",
            "21669it [00:21, 1049.70it/s]\u001b[A\n",
            "21775it [00:21, 1037.92it/s]\u001b[A\n",
            "21879it [00:21, 1022.18it/s]\u001b[A\n",
            "21982it [00:21, 1004.54it/s]\u001b[A\n",
            "22083it [00:21, 1002.20it/s]\u001b[A\n",
            "22185it [00:21, 1004.70it/s]\u001b[A\n",
            "22289it [00:21, 1013.27it/s]\u001b[A\n",
            "22391it [00:21, 1005.65it/s]\u001b[A\n",
            "22492it [00:21, 1005.91it/s]\u001b[A\n",
            "22598it [00:22, 1019.86it/s]\u001b[A\n",
            "22701it [00:22, 1012.11it/s]\u001b[A\n",
            "22803it [00:22, 1001.80it/s]\u001b[A\n",
            "22905it [00:22, 1005.28it/s]\u001b[A\n",
            "23007it [00:22, 1009.33it/s]\u001b[A\n",
            "23110it [00:22, 1012.69it/s]\u001b[A\n",
            "23212it [00:22, 1003.75it/s]\u001b[A\n",
            "23315it [00:22, 1010.56it/s]\u001b[A\n",
            "23420it [00:22, 1021.74it/s]\u001b[A\n",
            "23524it [00:22, 1026.88it/s]\u001b[A\n",
            "23627it [00:23, 1023.46it/s]\u001b[A\n",
            "23731it [00:23, 1026.38it/s]\u001b[A\n",
            "23839it [00:23, 1039.99it/s]\u001b[A\n",
            "23946it [00:23, 1046.16it/s]\u001b[A\n",
            "24051it [00:23, 1042.35it/s]\u001b[A\n",
            "24156it [00:23, 1030.73it/s]\u001b[A\n",
            "24262it [00:23, 1037.22it/s]\u001b[A\n",
            "24366it [00:23, 1034.58it/s]\u001b[A\n",
            "24472it [00:23, 1040.86it/s]\u001b[A\n",
            "24577it [00:23, 1031.47it/s]\u001b[A\n",
            "24681it [00:24, 1019.10it/s]\u001b[A\n",
            "24783it [00:24, 1003.34it/s]\u001b[A\n",
            "24884it [00:24, 1000.83it/s]\u001b[A\n",
            "24985it [00:24, 1000.48it/s]\u001b[A\n",
            "25089it [00:24, 1011.68it/s]\u001b[A\n",
            "25191it [00:24, 1009.64it/s]\u001b[A\n",
            "25296it [00:24, 1019.68it/s]\u001b[A\n",
            "25399it [00:24, 1001.86it/s]\u001b[A\n",
            "25500it [00:24, 987.08it/s] \u001b[A\n",
            "25601it [00:24, 991.50it/s]\u001b[A\n",
            "25707it [00:25, 1010.88it/s]\u001b[A\n",
            "25809it [00:25, 1012.46it/s]\u001b[A\n",
            "25915it [00:25, 1024.21it/s]\u001b[A\n",
            "26019it [00:25, 1027.00it/s]\u001b[A\n",
            "26122it [00:25, 992.11it/s] \u001b[A\n",
            "26225it [00:25, 1002.14it/s]\u001b[A\n",
            "26332it [00:25, 1020.98it/s]\u001b[A\n",
            "26435it [00:25, 1011.49it/s]\u001b[A\n",
            "26537it [00:25, 1005.59it/s]\u001b[A\n",
            "26639it [00:26, 1007.25it/s]\u001b[A\n",
            "26744it [00:26, 1018.33it/s]\u001b[A\n",
            "26848it [00:26, 1021.94it/s]\u001b[A\n",
            "26951it [00:26, 1021.53it/s]\u001b[A\n",
            "27056it [00:26, 1028.95it/s]\u001b[A\n",
            "27161it [00:26, 1034.44it/s]\u001b[A\n",
            "27269it [00:26, 1045.64it/s]\u001b[A\n",
            "27374it [00:26, 1040.13it/s]\u001b[A\n",
            "27479it [00:26, 1038.45it/s]\u001b[A\n",
            "27583it [00:26, 1031.80it/s]\u001b[A\n",
            "27688it [00:27, 1035.42it/s]\u001b[A\n",
            "27793it [00:27, 1037.27it/s]\u001b[A\n",
            "27897it [00:27, 1035.39it/s]\u001b[A\n",
            "28001it [00:27, 1029.59it/s]\u001b[A\n",
            "28104it [00:27, 1000.83it/s]\u001b[A\n",
            "28209it [00:27, 1014.15it/s]\u001b[A\n",
            "28315it [00:27, 1025.83it/s]\u001b[A\n",
            "28418it [00:27, 1006.22it/s]\u001b[A\n",
            "28521it [00:27, 1013.20it/s]\u001b[A\n",
            "28625it [00:27, 1019.61it/s]\u001b[A\n",
            "28728it [00:28, 1016.18it/s]\u001b[A\n",
            "28830it [00:28, 999.69it/s] \u001b[A\n",
            "28931it [00:28, 997.66it/s]\u001b[A\n",
            "29034it [00:28, 1005.87it/s]\u001b[A\n",
            "29135it [00:28, 1006.97it/s]\u001b[A\n",
            "29236it [00:28, 1004.14it/s]\u001b[A\n",
            "29341it [00:28, 1017.30it/s]\u001b[A\n",
            "29445it [00:28, 1021.47it/s]\u001b[A\n",
            "29551it [00:28, 1030.97it/s]\u001b[A\n",
            "29656it [00:28, 1035.83it/s]\u001b[A\n",
            "29765it [00:29, 1049.54it/s]\u001b[A\n",
            "29871it [00:29, 1046.84it/s]\u001b[A\n",
            "29976it [00:29, 1046.86it/s]\u001b[A\n",
            "30081it [00:29, 1034.41it/s]\u001b[A\n",
            "30186it [00:29, 1038.52it/s]\u001b[A\n",
            "30293it [00:29, 1046.11it/s]\u001b[A\n",
            "30401it [00:29, 1055.68it/s]\u001b[A\n",
            "30507it [00:29, 1053.67it/s]\u001b[A\n",
            "30613it [00:29, 1054.89it/s]\u001b[A\n",
            "30719it [00:29, 1025.03it/s]\u001b[A\n",
            "30822it [00:30, 1023.17it/s]\u001b[A\n",
            "30929it [00:30, 1034.40it/s]\u001b[A\n",
            "31033it [00:30, 1035.64it/s]\u001b[A\n",
            "31140it [00:30, 1044.03it/s]\u001b[A\n",
            "31246it [00:30, 1047.19it/s]\u001b[A\n",
            "31353it [00:30, 1052.49it/s]\u001b[A\n",
            "31459it [00:30, 1042.49it/s]\u001b[A\n",
            "31566it [00:30, 1049.07it/s]\u001b[A\n",
            "31671it [00:30, 1045.86it/s]\u001b[A\n",
            "31776it [00:30, 1040.25it/s]\u001b[A\n",
            "31881it [00:31, 1033.75it/s]\u001b[A\n",
            "31985it [00:31, 987.97it/s] \u001b[A\n",
            "32085it [00:31, 979.33it/s]\u001b[A\n",
            "32190it [00:31, 999.28it/s]\u001b[A\n",
            "32291it [00:31, 999.71it/s]\u001b[A\n",
            "32396it [00:31, 1014.02it/s]\u001b[A\n",
            "32501it [00:31, 1022.46it/s]\u001b[A\n",
            "32607it [00:31, 1033.19it/s]\u001b[A\n",
            "32713it [00:31, 1038.43it/s]\u001b[A\n",
            "32819it [00:32, 1043.06it/s]\u001b[A\n",
            "32924it [00:32, 1044.46it/s]\u001b[A\n",
            "33029it [00:32, 1010.23it/s]\u001b[A\n",
            "33132it [00:32, 1014.93it/s]\u001b[A\n",
            "33236it [00:32, 1022.26it/s]\u001b[A\n",
            "33341it [00:32, 1029.41it/s]\u001b[A\n",
            "33445it [00:32, 1023.70it/s]\u001b[A\n",
            "33548it [00:32, 1017.97it/s]\u001b[A\n",
            "33650it [00:32, 1016.96it/s]\u001b[A\n",
            "33754it [00:32, 1023.24it/s]\u001b[A\n",
            "33858it [00:33, 1024.70it/s]\u001b[A\n",
            "33961it [00:33, 1022.81it/s]\u001b[A\n",
            "34065it [00:33, 1026.84it/s]\u001b[A\n",
            "34168it [00:33, 1021.48it/s]\u001b[A\n",
            "34273it [00:33, 1028.85it/s]\u001b[A\n",
            "34376it [00:33, 1026.14it/s]\u001b[A\n",
            "34483it [00:33, 1037.07it/s]\u001b[A\n",
            "34589it [00:33, 1043.27it/s]\u001b[A\n",
            "34696it [00:33, 1048.67it/s]\u001b[A\n",
            "34801it [00:33, 1047.39it/s]\u001b[A\n",
            "34909it [00:34, 1054.48it/s]\u001b[A\n",
            "35015it [00:34, 1036.09it/s]\u001b[A\n",
            "35119it [00:34, 1016.58it/s]\u001b[A\n",
            "35224it [00:34, 1024.68it/s]\u001b[A\n",
            "35328it [00:34, 1027.85it/s]\u001b[A\n",
            "35432it [00:34, 1031.40it/s]\u001b[A\n",
            "35537it [00:34, 1036.31it/s]\u001b[A\n",
            "35643it [00:34, 1041.42it/s]\u001b[A\n",
            "35748it [00:34, 1024.46it/s]\u001b[A\n",
            "35851it [00:34, 1024.13it/s]\u001b[A\n",
            "35954it [00:35, 1024.59it/s]\u001b[A\n",
            "36062it [00:35, 1040.46it/s]\u001b[A\n",
            "36168it [00:35, 1045.16it/s]\u001b[A\n",
            "36273it [00:35, 1043.94it/s]\u001b[A\n",
            "36379it [00:35, 1046.30it/s]\u001b[A\n",
            "36486it [00:35, 1052.27it/s]\u001b[A\n",
            "36592it [00:35, 1043.02it/s]\u001b[A\n",
            "36697it [00:35, 974.26it/s] \u001b[A\n",
            "36796it [00:35, 960.86it/s]\u001b[A\n",
            "36898it [00:35, 976.98it/s]\u001b[A\n",
            "36998it [00:36, 983.45it/s]\u001b[A\n",
            "37099it [00:36, 991.07it/s]\u001b[A\n",
            "37199it [00:36, 992.71it/s]\u001b[A\n",
            "37300it [00:36, 997.06it/s]\u001b[A\n",
            "37406it [00:36, 1013.73it/s]\u001b[A\n",
            "37508it [00:36, 1011.24it/s]\u001b[A\n",
            "37611it [00:36, 1016.23it/s]\u001b[A\n",
            "37718it [00:36, 1029.61it/s]\u001b[A\n",
            "37824it [00:36, 1035.85it/s]\u001b[A\n",
            "37928it [00:37, 1030.29it/s]\u001b[A\n",
            "38035it [00:37, 1040.24it/s]\u001b[A\n",
            "38140it [00:37, 1025.67it/s]\u001b[A\n",
            "38246it [00:37, 1034.11it/s]\u001b[A\n",
            "38350it [00:37, 1032.86it/s]\u001b[A\n",
            "38455it [00:37, 1037.13it/s]\u001b[A\n",
            "38559it [00:37, 1019.41it/s]\u001b[A\n",
            "38662it [00:37, 1019.35it/s]\u001b[A\n",
            "38769it [00:37, 1033.48it/s]\u001b[A\n",
            "38873it [00:37, 1026.75it/s]\u001b[A\n",
            "38976it [00:38, 1026.37it/s]\u001b[A\n",
            "39082it [00:38, 1033.75it/s]\u001b[A\n",
            "39186it [00:38, 1033.59it/s]\u001b[A\n",
            "39290it [00:38, 1019.25it/s]\u001b[A\n",
            "39396it [00:38, 1028.83it/s]\u001b[A\n",
            "39499it [00:38, 1021.20it/s]\u001b[A\n",
            "39602it [00:38, 1022.53it/s]\u001b[A\n",
            "39705it [00:38, 1016.35it/s]\u001b[A\n",
            "39807it [00:38, 1005.98it/s]\u001b[A\n",
            "39908it [00:38, 1002.50it/s]\u001b[A\n",
            "40011it [00:39, 1008.82it/s]\u001b[A\n",
            "40115it [00:39, 1016.96it/s]\u001b[A\n",
            "40217it [00:39, 1014.10it/s]\u001b[A\n",
            "40325it [00:39, 1030.87it/s]\u001b[A\n",
            "40431it [00:39, 1038.89it/s]\u001b[A\n",
            "40539it [00:39, 1050.11it/s]\u001b[A\n",
            "40645it [00:39, 1040.92it/s]\u001b[A\n",
            "40752it [00:39, 1047.03it/s]\u001b[A\n",
            "40858it [00:39, 1048.71it/s]\u001b[A\n",
            "40965it [00:39, 1054.24it/s]\u001b[A\n",
            "41071it [00:40, 1040.11it/s]\u001b[A\n",
            "41176it [00:40, 1032.58it/s]\u001b[A\n",
            "41280it [00:40, 1023.06it/s]\u001b[A\n",
            "41386it [00:40, 1032.29it/s]\u001b[A\n",
            "41490it [00:40, 1020.87it/s]\u001b[A\n",
            "41599it [00:40, 1039.31it/s]\u001b[A\n",
            "41706it [00:40, 1045.73it/s]\u001b[A\n",
            "41815it [00:40, 1055.36it/s]\u001b[A\n",
            "41922it [00:40, 1057.60it/s]\u001b[A\n",
            "42029it [00:40, 1061.11it/s]\u001b[A\n",
            "42136it [00:41, 1050.77it/s]\u001b[A\n",
            "42245it [00:41, 1061.89it/s]\u001b[A\n",
            "42352it [00:41, 1062.19it/s]\u001b[A\n",
            "42459it [00:41, 1056.40it/s]\u001b[A\n",
            "42565it [00:41, 1042.10it/s]\u001b[A\n",
            "42670it [00:41, 1041.43it/s]\u001b[A\n",
            "42775it [00:41, 1040.40it/s]\u001b[A\n",
            "42883it [00:41, 1049.63it/s]\u001b[A\n",
            "42989it [00:41, 1040.03it/s]\u001b[A\n",
            "43098it [00:41, 1052.07it/s]\u001b[A\n",
            "43204it [00:42, 1052.17it/s]\u001b[A\n",
            "43312it [00:42, 1057.61it/s]\u001b[A\n",
            "43418it [00:42, 1057.33it/s]\u001b[A\n",
            "43526it [00:42, 1063.52it/s]\u001b[A\n",
            "43633it [00:42, 1058.75it/s]\u001b[A\n",
            "43741it [00:42, 1064.99it/s]\u001b[A\n",
            "43848it [00:42, 1060.18it/s]\u001b[A\n",
            "43955it [00:42, 1054.10it/s]\u001b[A\n",
            "44061it [00:42, 1031.56it/s]\u001b[A\n",
            "44165it [00:43, 1025.89it/s]\u001b[A\n",
            "44270it [00:43, 1031.61it/s]\u001b[A\n",
            "44378it [00:43, 1042.74it/s]\u001b[A\n",
            "44483it [00:43, 1044.52it/s]\u001b[A\n",
            "44588it [00:43, 1026.65it/s]\u001b[A\n",
            "44691it [00:43, 1025.84it/s]\u001b[A\n",
            "44794it [00:43, 1017.88it/s]\u001b[A\n",
            "44899it [00:43, 1025.02it/s]\u001b[A\n",
            "45005it [00:43, 1032.45it/s]\u001b[A\n",
            "45109it [00:43, 1018.67it/s]\u001b[A\n",
            "45211it [00:44, 1005.69it/s]\u001b[A\n",
            "45312it [00:44, 1005.90it/s]\u001b[A\n",
            "45420it [00:44, 1024.45it/s]\u001b[A\n",
            "45530it [00:44, 1043.75it/s]\u001b[A\n",
            "45637it [00:44, 1050.54it/s]\u001b[A\n",
            "45747it [00:44, 1064.48it/s]\u001b[A\n",
            "45854it [00:44, 1061.89it/s]\u001b[A\n",
            "45961it [00:44, 1045.61it/s]\u001b[A\n",
            "46066it [00:44, 1029.99it/s]\u001b[A\n",
            "46170it [00:44, 1026.06it/s]\u001b[A\n",
            "46273it [00:45, 1022.65it/s]\u001b[A\n",
            "46380it [00:45, 1035.47it/s]\u001b[A\n",
            "46484it [00:45, 1036.57it/s]\u001b[A\n",
            "46589it [00:45, 1040.22it/s]\u001b[A\n",
            "46694it [00:45, 1027.51it/s]\u001b[A\n",
            "46798it [00:45, 1029.90it/s]\u001b[A\n",
            "46902it [00:45, 1028.53it/s]\u001b[A\n",
            "47008it [00:45, 1036.97it/s]\u001b[A\n",
            "47115it [00:45, 1044.21it/s]\u001b[A\n",
            "47220it [00:45, 1004.29it/s]\u001b[A\n",
            "47321it [00:46, 997.61it/s] \u001b[A\n",
            "47428it [00:46, 1017.24it/s]\u001b[A\n",
            "47530it [00:46, 1017.66it/s]\u001b[A\n",
            "47632it [00:46, 1017.70it/s]\u001b[A\n",
            "47734it [00:46, 1012.79it/s]\u001b[A\n",
            "47838it [00:46, 1020.50it/s]\u001b[A\n",
            "47941it [00:46, 1016.96it/s]\u001b[A\n",
            "48049it [00:46, 1033.81it/s]\u001b[A\n",
            "48153it [00:46, 1032.79it/s]\u001b[A\n",
            "48259it [00:46, 1040.80it/s]\u001b[A\n",
            "48364it [00:47, 1036.45it/s]\u001b[A\n",
            "48470it [00:47, 1041.52it/s]\u001b[A\n",
            "48576it [00:47, 1046.52it/s]\u001b[A\n",
            "48682it [00:47, 1048.85it/s]\u001b[A\n",
            "48790it [00:47, 1057.97it/s]\u001b[A\n",
            "48896it [00:47, 1049.86it/s]\u001b[A\n",
            "49002it [00:47, 1040.42it/s]\u001b[A\n",
            "49107it [00:47, 1026.72it/s]\u001b[A\n",
            "49210it [00:47, 1024.03it/s]\u001b[A\n",
            "49317it [00:48, 1036.63it/s]\u001b[A\n",
            "49422it [00:48, 1040.32it/s]\u001b[A\n",
            "49527it [00:48, 1039.70it/s]\u001b[A\n",
            "49632it [00:48, 1039.36it/s]\u001b[A\n",
            "49736it [00:48, 1032.94it/s]\u001b[A\n",
            "49841it [00:48, 1037.25it/s]\u001b[A\n",
            "49945it [00:48, 1036.43it/s]\u001b[A\n",
            "50053it [00:48, 1046.75it/s]\u001b[A\n",
            "50158it [00:48, 1045.66it/s]\u001b[A\n",
            "50263it [00:48, 1032.70it/s]\u001b[A\n",
            "50367it [00:49, 1030.40it/s]\u001b[A\n",
            "50471it [00:49, 1032.62it/s]\u001b[A\n",
            "50575it [00:49, 1027.85it/s]\u001b[A\n",
            "50681it [00:49, 1034.80it/s]\u001b[A\n",
            "50785it [00:49, 1035.11it/s]\u001b[A\n",
            "50891it [00:49, 1042.27it/s]\u001b[A\n",
            "50997it [00:49, 1046.40it/s]\u001b[A\n",
            "51102it [00:49, 1040.43it/s]\u001b[A\n",
            "51208it [00:49, 1044.06it/s]\u001b[A\n",
            "51313it [00:49, 1038.47it/s]\u001b[A\n",
            "51417it [00:50, 1037.23it/s]\u001b[A\n",
            "51521it [00:50, 1020.03it/s]\u001b[A\n",
            "51624it [00:50, 1016.59it/s]\u001b[A\n",
            "51727it [00:50, 1019.42it/s]\u001b[A\n",
            "51835it [00:50, 1034.87it/s]\u001b[A\n",
            "51941it [00:50, 1041.24it/s]\u001b[A\n",
            "52046it [00:50, 1034.22it/s]\u001b[A\n",
            "52150it [00:50, 1027.24it/s]\u001b[A\n",
            "52256it [00:50, 1033.68it/s]\u001b[A\n",
            "52360it [00:50, 1008.83it/s]\u001b[A\n",
            "52465it [00:51, 1018.69it/s]\u001b[A\n",
            "52571it [00:51, 1029.04it/s]\u001b[A\n",
            "52675it [00:51, 1030.89it/s]\u001b[A\n",
            "52782it [00:51, 1041.10it/s]\u001b[A\n",
            "52891it [00:51, 1053.40it/s]\u001b[A\n",
            "52997it [00:51, 1053.05it/s]\u001b[A\n",
            "53103it [00:51, 1040.05it/s]\u001b[A\n",
            "53208it [00:51, 1032.87it/s]\u001b[A\n",
            "53312it [00:51, 1025.77it/s]\u001b[A\n",
            "53419it [00:51, 1038.43it/s]\u001b[A\n",
            "53527it [00:52, 1048.56it/s]\u001b[A\n",
            "53634it [00:52, 1053.14it/s]\u001b[A\n",
            "53743it [00:52, 1061.50it/s]\u001b[A\n",
            "53852it [00:52, 1067.07it/s]\u001b[A\n",
            "53959it [00:52, 1063.07it/s]\u001b[A\n",
            "54068it [00:52, 1067.59it/s]\u001b[A\n",
            "54175it [00:52, 1043.26it/s]\u001b[A\n",
            "54281it [00:52, 1047.02it/s]\u001b[A\n",
            "54386it [00:52, 1038.34it/s]\u001b[A\n",
            "54495it [00:52, 1050.58it/s]\u001b[A\n",
            "54601it [00:53, 1043.31it/s]\u001b[A\n",
            "54706it [00:53, 1045.25it/s]\u001b[A\n",
            "54812it [00:53, 1047.71it/s]\u001b[A\n",
            "54918it [00:53, 1051.36it/s]\u001b[A\n",
            "55024it [00:53, 1028.91it/s]\u001b[A\n",
            "55130it [00:53, 1037.53it/s]\u001b[A\n",
            "55234it [00:53, 1030.34it/s]\u001b[A\n",
            "55341it [00:53, 1040.39it/s]\u001b[A\n",
            "55446it [00:53, 1016.37it/s]\u001b[A\n",
            "55552it [00:54, 1027.62it/s]\u001b[A\n",
            "55657it [00:54, 1032.82it/s]\u001b[A\n",
            "55767it [00:54, 1050.95it/s]\u001b[A\n",
            "55873it [00:54, 1051.31it/s]\u001b[A\n",
            "55980it [00:54, 1055.28it/s]\u001b[A\n",
            "56089it [00:54, 1064.44it/s]\u001b[A\n",
            "56196it [00:54, 1053.86it/s]\u001b[A\n",
            "56304it [00:54, 1059.22it/s]\u001b[A\n",
            "56410it [00:54, 1052.54it/s]\u001b[A\n",
            "56516it [00:54, 1050.29it/s]\u001b[A\n",
            "56622it [00:55, 1033.09it/s]\u001b[A\n",
            "56727it [00:55, 1037.67it/s]\u001b[A\n",
            "56831it [00:55, 1035.56it/s]\u001b[A\n",
            "56936it [00:55, 1038.54it/s]\u001b[A\n",
            "57040it [00:55, 1034.48it/s]\u001b[A\n",
            "57144it [00:55, 1029.25it/s]\u001b[A\n",
            "57247it [00:55, 1014.67it/s]\u001b[A\n",
            "57352it [00:55, 1024.37it/s]\u001b[A\n",
            "57458it [00:55, 1031.64it/s]\u001b[A\n",
            "57566it [00:55, 1045.44it/s]\u001b[A\n",
            "57672it [00:56, 1047.44it/s]\u001b[A\n",
            "57781it [00:56, 1059.01it/s]\u001b[A\n",
            "57887it [00:56, 1049.66it/s]\u001b[A\n",
            "57993it [00:56, 1010.68it/s]\u001b[A\n",
            "58095it [00:56, 1009.61it/s]\u001b[A\n",
            "58201it [00:56, 1023.79it/s]\u001b[A\n",
            "58311it [00:56, 1043.16it/s]\u001b[A\n",
            "58416it [00:56, 1043.98it/s]\u001b[A\n",
            "58525it [00:56, 1054.87it/s]\u001b[A\n",
            "58631it [00:56, 1046.32it/s]\u001b[A\n",
            "58738it [00:57, 1051.96it/s]\u001b[A\n",
            "58844it [00:57, 1043.67it/s]\u001b[A\n",
            "58951it [00:57, 1049.99it/s]\u001b[A\n",
            "59057it [00:57, 1048.37it/s]\u001b[A\n",
            "59163it [00:57, 1051.03it/s]\u001b[A\n",
            "59271it [00:57, 1057.39it/s]\u001b[A\n",
            "59381it [00:57, 1068.72it/s]\u001b[A\n",
            "59488it [00:57, 1059.20it/s]\u001b[A\n",
            "59598it [00:57, 1070.26it/s]\u001b[A\n",
            "59706it [00:57, 1067.31it/s]\u001b[A\n",
            "59815it [00:58, 1071.08it/s]\u001b[A\n",
            "59923it [00:58, 1059.55it/s]\u001b[A\n",
            "60030it [00:58, 1057.22it/s]\u001b[A\n",
            "60136it [00:58, 1049.83it/s]\u001b[A\n",
            "60242it [00:58, 1051.73it/s]\u001b[A\n",
            "60348it [00:58, 1045.66it/s]\u001b[A\n",
            "60453it [00:58, 1027.65it/s]\u001b[A\n",
            "60557it [00:58, 1030.87it/s]\u001b[A\n",
            "60661it [00:58, 1031.61it/s]\u001b[A\n",
            "60765it [00:58, 1026.86it/s]\u001b[A\n",
            "60868it [00:59, 1014.08it/s]\u001b[A\n",
            "60971it [00:59, 1018.34it/s]\u001b[A\n",
            "61077it [00:59, 1029.94it/s]\u001b[A\n",
            "61181it [00:59, 1030.31it/s]\u001b[A\n",
            "61285it [00:59, 1030.69it/s]\u001b[A\n",
            "61390it [00:59, 1034.94it/s]\u001b[A\n",
            "61496it [00:59, 1042.17it/s]\u001b[A\n",
            "61601it [00:59, 1034.84it/s]\u001b[A\n",
            "61706it [00:59, 1039.02it/s]\u001b[A\n",
            "61810it [01:00, 1031.88it/s]\u001b[A\n",
            "61914it [01:00, 1030.63it/s]\u001b[A\n",
            "62019it [01:00, 1034.23it/s]\u001b[A\n",
            "62124it [01:00, 1038.57it/s]\u001b[A\n",
            "62229it [01:00, 1041.30it/s]\u001b[A\n",
            "62338it [01:00, 1054.00it/s]\u001b[A\n",
            "62444it [01:00, 1048.88it/s]\u001b[A\n",
            "62550it [01:00, 1049.82it/s]\u001b[A\n",
            "62656it [01:00, 1051.98it/s]\u001b[A\n",
            "62763it [01:00, 1056.33it/s]\u001b[A\n",
            "62869it [01:01, 1051.05it/s]\u001b[A\n",
            "62975it [01:01, 1038.95it/s]\u001b[A\n",
            "63079it [01:01, 1025.84it/s]\u001b[A\n",
            "63182it [01:01, 1011.25it/s]\u001b[A\n",
            "63290it [01:01, 1029.44it/s]\u001b[A\n",
            "63396it [01:01, 1036.63it/s]\u001b[A\n",
            "63500it [01:01, 1024.20it/s]\u001b[A\n",
            "63603it [01:01, 1011.40it/s]\u001b[A\n",
            "63707it [01:01, 1017.91it/s]\u001b[A\n",
            "63809it [01:01, 1012.88it/s]\u001b[A\n",
            "63915it [01:02, 1025.92it/s]\u001b[A\n",
            "64018it [01:02, 1023.73it/s]\u001b[A\n",
            "64121it [01:02, 1020.22it/s]\u001b[A\n",
            "64225it [01:02, 1025.06it/s]\u001b[A\n",
            "64335it [01:02, 1045.22it/s]\u001b[A\n",
            "64441it [01:02, 1047.79it/s]\u001b[A\n",
            "64549it [01:02, 1056.55it/s]\u001b[A\n",
            "64655it [01:02, 1045.07it/s]\u001b[A\n",
            "64760it [01:02, 1006.86it/s]\u001b[A\n",
            "64862it [01:02, 1008.60it/s]\u001b[A\n",
            "64972it [01:03, 1032.25it/s]\u001b[A\n",
            "65079it [01:03, 1042.44it/s]\u001b[A\n",
            "65189it [01:03, 1057.13it/s]\u001b[A\n",
            "65295it [01:03, 1052.45it/s]\u001b[A\n",
            "65402it [01:03, 1055.23it/s]\u001b[A\n",
            "65508it [01:03, 1055.66it/s]\u001b[A\n",
            "65618it [01:03, 1066.02it/s]\u001b[A\n",
            "65725it [01:03, 1066.45it/s]\u001b[A\n",
            "65832it [01:03, 1050.45it/s]\u001b[A\n",
            "65938it [01:03, 1051.56it/s]\u001b[A\n",
            "66047it [01:04, 1061.34it/s]\u001b[A\n",
            "66154it [01:04, 1056.91it/s]\u001b[A\n",
            "66260it [01:04, 1054.07it/s]\u001b[A\n",
            "66366it [01:04, 1048.59it/s]\u001b[A\n",
            "66474it [01:04, 1056.01it/s]\u001b[A\n",
            "66581it [01:04, 1058.13it/s]\u001b[A\n",
            "66687it [01:04, 1045.88it/s]\u001b[A\n",
            "66792it [01:04, 1041.82it/s]\u001b[A\n",
            "66897it [01:04, 1032.76it/s]\u001b[A\n",
            "67001it [01:04, 1025.52it/s]\u001b[A\n",
            "67108it [01:05, 1037.97it/s]\u001b[A\n",
            "67212it [01:05, 1037.99it/s]\u001b[A\n",
            "67319it [01:05, 1044.81it/s]\u001b[A\n",
            "67425it [01:05, 1046.80it/s]\u001b[A\n",
            "67533it [01:05, 1053.92it/s]\u001b[A\n",
            "67639it [01:05, 1048.81it/s]\u001b[A\n",
            "67746it [01:05, 1054.04it/s]\u001b[A\n",
            "67852it [01:05, 1039.44it/s]\u001b[A\n",
            "67957it [01:05, 1041.53it/s]\u001b[A\n",
            "68062it [01:06, 1032.83it/s]\u001b[A\n",
            "68166it [01:06, 1032.08it/s]\u001b[A\n",
            "68273it [01:06, 1040.87it/s]\u001b[A\n",
            "68378it [01:06, 1042.52it/s]\u001b[A\n",
            "68484it [01:06, 1046.94it/s]\u001b[A\n",
            "68589it [01:06, 1011.12it/s]\u001b[A\n",
            "68692it [01:06, 1016.52it/s]\u001b[A\n",
            "68797it [01:06, 1025.02it/s]\u001b[A\n",
            "68904it [01:06, 1037.42it/s]\u001b[A\n",
            "69008it [01:06, 1035.08it/s]\u001b[A\n",
            "69115it [01:07, 1043.79it/s]\u001b[A\n",
            "69220it [01:07, 1043.87it/s]\u001b[A\n",
            "69326it [01:07, 1047.44it/s]\u001b[A\n",
            "69434it [01:07, 1056.93it/s]\u001b[A\n",
            "69540it [01:07, 1049.42it/s]\u001b[A\n",
            "69645it [01:07, 1026.54it/s]\u001b[A\n",
            "69748it [01:07, 1009.45it/s]\u001b[A\n",
            "69850it [01:07, 1000.19it/s]\u001b[A\n",
            "69957it [01:07, 1018.68it/s]\u001b[A\n",
            "70062it [01:07, 1027.22it/s]\u001b[A\n",
            "70166it [01:08, 1030.27it/s]\u001b[A\n",
            "70271it [01:08, 1032.03it/s]\u001b[A\n",
            "70376it [01:08, 1036.72it/s]\u001b[A\n",
            "70480it [01:08, 1034.07it/s]\u001b[A\n",
            "70584it [01:08, 1026.52it/s]\u001b[A\n",
            "70691it [01:08, 1037.47it/s]\u001b[A\n",
            "70795it [01:08, 1022.43it/s]\u001b[A\n",
            "70901it [01:08, 1031.39it/s]\u001b[A\n",
            "71005it [01:08, 1030.94it/s]\u001b[A\n",
            "71109it [01:08, 1028.15it/s]\u001b[A\n",
            "71213it [01:09, 1030.57it/s]\u001b[A\n",
            "71317it [01:09, 1028.25it/s]\u001b[A\n",
            "71423it [01:09, 1036.68it/s]\u001b[A\n",
            "71527it [01:09, 1022.45it/s]\u001b[A\n",
            "71631it [01:09, 1025.49it/s]\u001b[A\n",
            "71738it [01:09, 1035.08it/s]\u001b[A\n",
            "71842it [01:09, 1021.09it/s]\u001b[A\n",
            "71945it [01:09, 1018.34it/s]\u001b[A\n",
            "72051it [01:09, 1029.83it/s]\u001b[A\n",
            "72160it [01:09, 1045.42it/s]\u001b[A\n",
            "72265it [01:10, 1036.16it/s]\u001b[A\n",
            "72374it [01:10, 1050.31it/s]\u001b[A\n",
            "72480it [01:10, 1038.62it/s]\u001b[A\n",
            "72584it [01:10, 1037.85it/s]\u001b[A\n",
            "72688it [01:10, 1033.61it/s]\u001b[A\n",
            "72793it [01:10, 1036.44it/s]\u001b[A\n",
            "72897it [01:10, 1028.74it/s]\u001b[A\n",
            "73002it [01:10, 1034.32it/s]\u001b[A\n",
            "73106it [01:10, 1001.56it/s]\u001b[A\n",
            "73207it [01:11, 1000.89it/s]\u001b[A\n",
            "73312it [01:11, 1012.49it/s]\u001b[A\n",
            "73416it [01:11, 1018.34it/s]\u001b[A\n",
            "73520it [01:11, 1023.54it/s]\u001b[A\n",
            "73626it [01:11, 1033.03it/s]\u001b[A\n",
            "73732it [01:11, 1038.91it/s]\u001b[A\n",
            "73838it [01:11, 1044.26it/s]\u001b[A\n",
            "73943it [01:11, 1041.18it/s]\u001b[A\n",
            "74051it [01:11, 1050.60it/s]\u001b[A\n",
            "74157it [01:11, 1046.46it/s]\u001b[A\n",
            "74266it [01:12, 1057.11it/s]\u001b[A\n",
            "74372it [01:12, 1049.13it/s]\u001b[A\n",
            "74478it [01:12, 1051.68it/s]\u001b[A\n",
            "74584it [01:12, 1051.46it/s]\u001b[A\n",
            "74693it [01:12, 1061.56it/s]\u001b[A\n",
            "74800it [01:12, 1062.71it/s]\u001b[A\n",
            "74907it [01:12, 1052.77it/s]\u001b[A\n",
            "75013it [01:12, 1039.64it/s]\u001b[A\n",
            "75118it [01:12, 1026.03it/s]\u001b[A\n",
            "75223it [01:12, 1031.07it/s]\u001b[A\n",
            "75327it [01:13, 1025.89it/s]\u001b[A\n",
            "75430it [01:13, 1026.29it/s]\u001b[A\n",
            "75533it [01:13, 1017.28it/s]\u001b[A\n",
            "75635it [01:13, 1016.04it/s]\u001b[A\n",
            "75737it [01:13, 996.45it/s] \u001b[A\n",
            "75841it [01:13, 1008.77it/s]\u001b[A\n",
            "75942it [01:13, 969.44it/s] \u001b[A\n",
            "76040it [01:13, 958.67it/s]\u001b[A\n",
            "76138it [01:13, 963.90it/s]\u001b[A\n",
            "76235it [01:13, 957.63it/s]\u001b[A\n",
            "76336it [01:14, 971.82it/s]\u001b[A\n",
            "76435it [01:14, 975.72it/s]\u001b[A\n",
            "76537it [01:14, 986.30it/s]\u001b[A\n",
            "76647it [01:14, 1016.82it/s]\u001b[A\n",
            "76756it [01:14, 1036.33it/s]\u001b[A\n",
            "76866it [01:14, 1053.92it/s]\u001b[A\n",
            "76972it [01:14, 1045.14it/s]\u001b[A\n",
            "77077it [01:14, 1044.60it/s]\u001b[A\n",
            "77182it [01:14, 1038.78it/s]\u001b[A\n",
            "77286it [01:14, 1035.27it/s]\u001b[A\n",
            "77392it [01:15, 1041.20it/s]\u001b[A\n",
            "77498it [01:15, 1043.89it/s]\u001b[A\n",
            "77603it [01:15, 1036.36it/s]\u001b[A\n",
            "77709it [01:15, 1041.27it/s]\u001b[A\n",
            "77814it [01:15, 1037.47it/s]\u001b[A\n",
            "77920it [01:15, 1044.11it/s]\u001b[A\n",
            "78025it [01:15, 1039.48it/s]\u001b[A\n",
            "78132it [01:15, 1046.84it/s]\u001b[A\n",
            "78237it [01:15, 1032.72it/s]\u001b[A\n",
            "78341it [01:16, 1025.97it/s]\u001b[A\n",
            "78444it [01:16, 1011.31it/s]\u001b[A\n",
            "78547it [01:16, 1014.58it/s]\u001b[A\n",
            "78649it [01:16, 1013.43it/s]\u001b[A\n",
            "78752it [01:16, 1017.77it/s]\u001b[A\n",
            "78854it [01:16, 1015.99it/s]\u001b[A\n",
            "78956it [01:16, 1013.08it/s]\u001b[A\n",
            "79058it [01:16, 1001.33it/s]\u001b[A\n",
            "79159it [01:16, 970.06it/s] \u001b[A\n",
            "79260it [01:16, 981.24it/s]\u001b[A\n",
            "79359it [01:17, 973.17it/s]\u001b[A\n",
            "79460it [01:17, 983.56it/s]\u001b[A\n",
            "79562it [01:17, 992.27it/s]\u001b[A\n",
            "79665it [01:17, 1001.52it/s]\u001b[A\n",
            "79771it [01:17, 1015.99it/s]\u001b[A\n",
            "79878it [01:17, 1031.05it/s]\u001b[A\n",
            "79984it [01:17, 1036.74it/s]\u001b[A\n",
            "80090it [01:17, 1043.21it/s]\u001b[A\n",
            "80195it [01:17, 1039.57it/s]\u001b[A\n",
            "80302it [01:17, 1046.06it/s]\u001b[A\n",
            "80407it [01:18, 1042.95it/s]\u001b[A\n",
            "80513it [01:18, 1047.17it/s]\u001b[A\n",
            "80618it [01:18, 1039.91it/s]\u001b[A\n",
            "80725it [01:18, 1048.42it/s]\u001b[A\n",
            "80830it [01:18, 1038.92it/s]\u001b[A\n",
            "80935it [01:18, 1041.68it/s]\u001b[A\n",
            "81040it [01:18, 1042.64it/s]\u001b[A\n",
            "81146it [01:18, 1047.40it/s]\u001b[A\n",
            "81251it [01:18, 1041.92it/s]\u001b[A\n",
            "81356it [01:18, 1040.55it/s]\u001b[A\n",
            "81461it [01:19, 1027.85it/s]\u001b[A\n",
            "81567it [01:19, 1034.85it/s]\u001b[A\n",
            "81671it [01:19, 1024.57it/s]\u001b[A\n",
            "81776it [01:19, 1029.77it/s]\u001b[A\n",
            "81880it [01:19, 1023.59it/s]\u001b[A\n",
            "81985it [01:19, 1031.17it/s]\u001b[A\n",
            "82089it [01:19, 1024.52it/s]\u001b[A\n",
            "82192it [01:19, 1020.96it/s]\u001b[A\n",
            "82295it [01:19, 1015.58it/s]\u001b[A\n",
            "82401it [01:19, 1027.84it/s]\u001b[A\n",
            "82505it [01:20, 1030.13it/s]\u001b[A\n",
            "82611it [01:20, 1038.81it/s]\u001b[A\n",
            "82715it [01:20, 1035.56it/s]\u001b[A\n",
            "82823it [01:20, 1046.60it/s]\u001b[A\n",
            "82928it [01:20, 1040.85it/s]\u001b[A\n",
            "83036it [01:20, 1049.69it/s]\u001b[A\n",
            "83143it [01:20, 1055.18it/s]\u001b[A\n",
            "83249it [01:20, 1054.04it/s]\u001b[A\n",
            "83355it [01:20, 1035.52it/s]\u001b[A\n",
            "83459it [01:20, 1026.89it/s]\u001b[A\n",
            "83566it [01:21, 1036.83it/s]\u001b[A\n",
            "83671it [01:21, 1039.08it/s]\u001b[A\n",
            "83778it [01:21, 1045.39it/s]\u001b[A\n",
            "83883it [01:21, 1044.77it/s]\u001b[A\n",
            "83992it [01:21, 1057.94it/s]\u001b[A\n",
            "84099it [01:21, 1059.01it/s]\u001b[A\n",
            "84207it [01:21, 1063.77it/s]\u001b[A\n",
            "84314it [01:21, 1052.45it/s]\u001b[A\n",
            "84420it [01:21, 1051.37it/s]\u001b[A\n",
            "84526it [01:21, 1046.12it/s]\u001b[A\n",
            "84632it [01:22, 1049.05it/s]\u001b[A\n",
            "84737it [01:22, 1036.82it/s]\u001b[A\n",
            "84841it [01:22, 1034.49it/s]\u001b[A\n",
            "84947it [01:22, 1039.35it/s]\u001b[A\n",
            "85056it [01:22, 1053.46it/s]\u001b[A\n",
            "85163it [01:22, 1056.14it/s]\u001b[A\n",
            "85271it [01:22, 1061.40it/s]\u001b[A\n",
            "85378it [01:22, 1053.61it/s]\u001b[A\n",
            "85484it [01:22, 1038.72it/s]\u001b[A\n",
            "85588it [01:23, 1033.55it/s]\u001b[A\n",
            "85693it [01:23, 1037.84it/s]\u001b[A\n",
            "85802it [01:23, 1050.98it/s]\u001b[A\n",
            "85908it [01:23, 1050.27it/s]\u001b[A\n",
            "86014it [01:23, 1040.54it/s]\u001b[A\n",
            "86120it [01:23, 1043.86it/s]\u001b[A\n",
            "86227it [01:23, 1050.72it/s]\u001b[A\n",
            "86333it [01:23, 1052.57it/s]\u001b[A\n",
            "86439it [01:23, 1052.16it/s]\u001b[A\n",
            "86545it [01:23, 1048.21it/s]\u001b[A\n",
            "86650it [01:24, 1045.03it/s]\u001b[A\n",
            "86756it [01:24, 1047.38it/s]\u001b[A\n",
            "86861it [01:24, 1042.65it/s]\u001b[A\n",
            "86966it [01:24, 1036.74it/s]\u001b[A\n",
            "87074it [01:24, 1048.75it/s]\u001b[A\n",
            "87179it [01:24, 1047.97it/s]\u001b[A\n",
            "87285it [01:24, 1048.71it/s]\u001b[A\n",
            "87390it [01:24, 1032.99it/s]\u001b[A\n",
            "87494it [01:24, 1029.36it/s]\u001b[A\n",
            "87598it [01:24, 1029.82it/s]\u001b[A\n",
            "87703it [01:25, 1033.41it/s]\u001b[A\n",
            "87810it [01:25, 1041.55it/s]\u001b[A\n",
            "87915it [01:25, 1042.05it/s]\u001b[A\n",
            "88023it [01:25, 1050.79it/s]\u001b[A\n",
            "88129it [01:25, 1045.07it/s]\u001b[A\n",
            "88235it [01:25, 1047.58it/s]\u001b[A\n",
            "88342it [01:25, 1051.52it/s]\u001b[A\n",
            "88448it [01:25, 1043.49it/s]\u001b[A\n",
            "88555it [01:25, 1050.21it/s]\u001b[A\n",
            "88664it [01:25, 1059.96it/s]\u001b[A\n",
            "88771it [01:26, 1046.99it/s]\u001b[A\n",
            "88876it [01:26, 1032.93it/s]\u001b[A\n",
            "88980it [01:26, 1034.60it/s]\u001b[A\n",
            "89084it [01:26, 1034.83it/s]\u001b[A\n",
            "89188it [01:26, 1035.66it/s]\u001b[A\n",
            "89295it [01:26, 1044.55it/s]\u001b[A\n",
            "89400it [01:26, 1042.68it/s]\u001b[A\n",
            "89509it [01:26, 1055.83it/s]\u001b[A\n",
            "89615it [01:26, 1046.36it/s]\u001b[A\n",
            "89720it [01:26, 1013.29it/s]\u001b[A\n",
            "89822it [01:27, 975.28it/s] \u001b[A\n",
            "89927it [01:27, 995.06it/s]\u001b[A\n",
            "90033it [01:27, 1013.66it/s]\u001b[A\n",
            "90143it [01:27, 1035.50it/s]\u001b[A\n",
            "90252it [01:27, 1049.79it/s]\u001b[A\n",
            "90360it [01:27, 1058.22it/s]\u001b[A\n",
            "90467it [01:27, 1060.72it/s]\u001b[A\n",
            "90574it [01:27, 1060.48it/s]\u001b[A\n",
            "90681it [01:27, 1049.22it/s]\u001b[A\n",
            "90787it [01:28, 1047.93it/s]\u001b[A\n",
            "90892it [01:28, 1046.41it/s]\u001b[A\n",
            "91001it [01:28, 1057.58it/s]\u001b[A\n",
            "91107it [01:28, 1046.93it/s]\u001b[A\n",
            "91214it [01:28, 1051.53it/s]\u001b[A\n",
            "91320it [01:28, 1053.31it/s]\u001b[A\n",
            "91429it [01:28, 1063.50it/s]\u001b[A\n",
            "91536it [01:28, 1053.79it/s]\u001b[A\n",
            "91642it [01:28, 1047.09it/s]\u001b[A\n",
            "91747it [01:28, 1016.41it/s]\u001b[A\n",
            "91849it [01:29, 1012.05it/s]\u001b[A\n",
            "91951it [01:29, 1010.57it/s]\u001b[A\n",
            "92057it [01:29, 1022.97it/s]\u001b[A\n",
            "92163it [01:29, 1031.51it/s]\u001b[A\n",
            "92267it [01:29, 1032.45it/s]\u001b[A\n",
            "92372it [01:29, 1033.69it/s]\u001b[A\n",
            "92476it [01:29, 1020.67it/s]\u001b[A\n",
            "92579it [01:29, 1015.12it/s]\u001b[A\n",
            "92681it [01:29, 1014.91it/s]\u001b[A\n",
            "92786it [01:29, 1022.37it/s]\u001b[A\n",
            "92889it [01:30, 1016.62it/s]\u001b[A\n",
            "92992it [01:30, 1017.79it/s]\u001b[A\n",
            "93095it [01:30, 1020.85it/s]\u001b[A\n",
            "93202it [01:30, 1034.55it/s]\u001b[A\n",
            "93307it [01:30, 1037.51it/s]\u001b[A\n",
            "93411it [01:30, 1019.33it/s]\u001b[A\n",
            "93514it [01:30, 1009.91it/s]\u001b[A\n",
            "93616it [01:30, 1008.56it/s]\u001b[A\n",
            "93720it [01:30, 1017.48it/s]\u001b[A\n",
            "93823it [01:30, 1019.81it/s]\u001b[A\n",
            "93926it [01:31, 1017.93it/s]\u001b[A\n",
            "94032it [01:31, 1028.74it/s]\u001b[A\n",
            "94135it [01:31, 1003.44it/s]\u001b[A\n",
            "94236it [01:31, 1002.49it/s]\u001b[A\n",
            "94337it [01:31, 991.75it/s] \u001b[A\n",
            "94443it [01:31, 1010.92it/s]\u001b[A\n",
            "94545it [01:31, 1010.48it/s]\u001b[A\n",
            "94651it [01:31, 1023.15it/s]\u001b[A\n",
            "94754it [01:31, 1022.74it/s]\u001b[A\n",
            "94861it [01:31, 1034.72it/s]\u001b[A\n",
            "94965it [01:32, 1029.26it/s]\u001b[A\n",
            "95073it [01:32, 1043.74it/s]\u001b[A\n",
            "95178it [01:32, 1033.82it/s]\u001b[A\n",
            "95284it [01:32, 1039.88it/s]\u001b[A\n",
            "95389it [01:32, 1039.80it/s]\u001b[A\n",
            "95494it [01:32, 1033.03it/s]\u001b[A\n",
            "95598it [01:32, 1023.48it/s]\u001b[A\n",
            "95701it [01:32, 1013.20it/s]\u001b[A\n",
            "95803it [01:32, 995.83it/s] \u001b[A\n",
            "95907it [01:33, 1008.59it/s]\u001b[A\n",
            "96008it [01:33, 1008.09it/s]\u001b[A\n",
            "96110it [01:33, 1010.76it/s]\u001b[A\n",
            "96212it [01:33, 1010.45it/s]\u001b[A\n",
            "96321it [01:33, 1031.77it/s]\u001b[A\n",
            "96425it [01:33, 1023.82it/s]\u001b[A\n",
            "96528it [01:33, 1020.47it/s]\u001b[A\n",
            "96632it [01:33, 1025.16it/s]\u001b[A\n",
            "96736it [01:33, 1026.90it/s]\u001b[A\n",
            "96841it [01:33, 1032.83it/s]\u001b[A\n",
            "96950it [01:34, 1048.08it/s]\u001b[A\n",
            "97056it [01:34, 1049.40it/s]\u001b[A\n",
            "97161it [01:34, 1048.73it/s]\u001b[A\n",
            "97266it [01:34, 1047.73it/s]\u001b[A\n",
            "97373it [01:34, 1052.09it/s]\u001b[A\n",
            "97479it [01:34, 1051.47it/s]\u001b[A\n",
            "97589it [01:34, 1063.53it/s]\u001b[A\n",
            "97696it [01:34, 1038.36it/s]\u001b[A\n",
            "97800it [01:34, 1037.67it/s]\u001b[A\n",
            "97904it [01:34, 1023.21it/s]\u001b[A\n",
            "98007it [01:35, 1019.99it/s]\u001b[A\n",
            "98110it [01:35, 1018.01it/s]\u001b[A\n",
            "98215it [01:35, 1024.54it/s]\u001b[A\n",
            "98318it [01:35, 1019.61it/s]\u001b[A\n",
            "98422it [01:35, 1023.97it/s]\u001b[A\n",
            "98526it [01:35, 1028.50it/s]\u001b[A\n",
            "98632it [01:35, 1035.67it/s]\u001b[A\n",
            "98736it [01:35, 1030.62it/s]\u001b[A\n",
            "98844it [01:35, 1044.46it/s]\u001b[A\n",
            "98949it [01:35, 1030.67it/s]\u001b[A\n",
            "99054it [01:36, 1035.01it/s]\u001b[A\n",
            "99158it [01:36, 1022.43it/s]\u001b[A\n",
            "99261it [01:36, 1008.53it/s]\u001b[A\n",
            "99363it [01:36, 1009.77it/s]\u001b[A\n",
            "99468it [01:36, 1019.93it/s]\u001b[A\n",
            "99574it [01:36, 1029.15it/s]\u001b[A\n",
            "99677it [01:36, 1015.22it/s]\u001b[A\n",
            "99782it [01:36, 1022.93it/s]\u001b[A\n",
            "99885it [01:36, 1017.48it/s]\u001b[A\n",
            "99988it [01:36, 1019.25it/s]\u001b[A\n",
            "100000it [01:36, 1031.09it/s]\u001b[A"
          ],
          "name": "stderr"
        },
        {
          "output_type": "execute_result",
          "data": {
            "text/html": [
              "<div>\n",
              "<style scoped>\n",
              "    .dataframe tbody tr th:only-of-type {\n",
              "        vertical-align: middle;\n",
              "    }\n",
              "\n",
              "    .dataframe tbody tr th {\n",
              "        vertical-align: top;\n",
              "    }\n",
              "\n",
              "    .dataframe thead th {\n",
              "        text-align: right;\n",
              "    }\n",
              "</style>\n",
              "<table border=\"1\" class=\"dataframe\">\n",
              "  <thead>\n",
              "    <tr style=\"text-align: right;\">\n",
              "      <th></th>\n",
              "      <th>userID</th>\n",
              "      <th>itemID</th>\n",
              "      <th>rating</th>\n",
              "      <th>timestamp</th>\n",
              "      <th>user-cosine</th>\n",
              "    </tr>\n",
              "  </thead>\n",
              "  <tbody>\n",
              "    <tr>\n",
              "      <th>0</th>\n",
              "      <td>196</td>\n",
              "      <td>242</td>\n",
              "      <td>3</td>\n",
              "      <td>881250949</td>\n",
              "      <td>4.025213</td>\n",
              "    </tr>\n",
              "    <tr>\n",
              "      <th>1</th>\n",
              "      <td>186</td>\n",
              "      <td>302</td>\n",
              "      <td>3</td>\n",
              "      <td>891717742</td>\n",
              "      <td>4.142828</td>\n",
              "    </tr>\n",
              "    <tr>\n",
              "      <th>2</th>\n",
              "      <td>22</td>\n",
              "      <td>377</td>\n",
              "      <td>1</td>\n",
              "      <td>878887116</td>\n",
              "      <td>1.922080</td>\n",
              "    </tr>\n",
              "    <tr>\n",
              "      <th>3</th>\n",
              "      <td>244</td>\n",
              "      <td>51</td>\n",
              "      <td>2</td>\n",
              "      <td>880606923</td>\n",
              "      <td>3.431884</td>\n",
              "    </tr>\n",
              "    <tr>\n",
              "      <th>4</th>\n",
              "      <td>166</td>\n",
              "      <td>346</td>\n",
              "      <td>1</td>\n",
              "      <td>886397596</td>\n",
              "      <td>3.424963</td>\n",
              "    </tr>\n",
              "  </tbody>\n",
              "</table>\n",
              "</div>"
            ],
            "text/plain": [
              "   userID  itemID  rating  timestamp  user-cosine\n",
              "0     196     242       3  881250949     4.025213\n",
              "1     186     302       3  891717742     4.142828\n",
              "2      22     377       1  878887116     1.922080\n",
              "3     244      51       2  880606923     3.431884\n",
              "4     166     346       1  886397596     3.424963"
            ]
          },
          "metadata": {
            "tags": []
          },
          "execution_count": 113
        }
      ]
    },
    {
      "cell_type": "code",
      "metadata": {
        "id": "0Ic_FKWUzdui",
        "colab_type": "code",
        "outputId": "7840e242-6725-4cad-d6a9-29ff3268a9c7",
        "colab": {
          "base_uri": "https://localhost:8080/",
          "height": 216
        }
      },
      "source": [
        "item_cosine_recsys = SimBasedRecSys('item','cosine')\n",
        "item_cosine_recsys.predict_all(rating_df, num_users, num_items)\n",
        "item_cosine_recsys.getModel()\n",
        "item_cosine_recsys.evaluate_test(rating_df,copy=True).head()"
      ],
      "execution_count": 0,
      "outputs": [
        {
          "output_type": "stream",
          "text": [
            "100000it [01:26, 1160.50it/s]\n"
          ],
          "name": "stderr"
        },
        {
          "output_type": "execute_result",
          "data": {
            "text/html": [
              "<div>\n",
              "<style scoped>\n",
              "    .dataframe tbody tr th:only-of-type {\n",
              "        vertical-align: middle;\n",
              "    }\n",
              "\n",
              "    .dataframe tbody tr th {\n",
              "        vertical-align: top;\n",
              "    }\n",
              "\n",
              "    .dataframe thead th {\n",
              "        text-align: right;\n",
              "    }\n",
              "</style>\n",
              "<table border=\"1\" class=\"dataframe\">\n",
              "  <thead>\n",
              "    <tr style=\"text-align: right;\">\n",
              "      <th></th>\n",
              "      <th>userID</th>\n",
              "      <th>itemID</th>\n",
              "      <th>rating</th>\n",
              "      <th>timestamp</th>\n",
              "      <th>item-cosine</th>\n",
              "    </tr>\n",
              "  </thead>\n",
              "  <tbody>\n",
              "    <tr>\n",
              "      <th>0</th>\n",
              "      <td>196</td>\n",
              "      <td>242</td>\n",
              "      <td>3</td>\n",
              "      <td>881250949</td>\n",
              "      <td>3.591314</td>\n",
              "    </tr>\n",
              "    <tr>\n",
              "      <th>1</th>\n",
              "      <td>186</td>\n",
              "      <td>302</td>\n",
              "      <td>3</td>\n",
              "      <td>891717742</td>\n",
              "      <td>3.344077</td>\n",
              "    </tr>\n",
              "    <tr>\n",
              "      <th>2</th>\n",
              "      <td>22</td>\n",
              "      <td>377</td>\n",
              "      <td>1</td>\n",
              "      <td>878887116</td>\n",
              "      <td>2.965365</td>\n",
              "    </tr>\n",
              "    <tr>\n",
              "      <th>3</th>\n",
              "      <td>244</td>\n",
              "      <td>51</td>\n",
              "      <td>2</td>\n",
              "      <td>880606923</td>\n",
              "      <td>3.637332</td>\n",
              "    </tr>\n",
              "    <tr>\n",
              "      <th>4</th>\n",
              "      <td>166</td>\n",
              "      <td>346</td>\n",
              "      <td>1</td>\n",
              "      <td>886397596</td>\n",
              "      <td>3.333013</td>\n",
              "    </tr>\n",
              "  </tbody>\n",
              "</table>\n",
              "</div>"
            ],
            "text/plain": [
              "   userID  itemID  rating  timestamp  item-cosine\n",
              "0     196     242       3  881250949     3.591314\n",
              "1     186     302       3  891717742     3.344077\n",
              "2      22     377       1  878887116     2.965365\n",
              "3     244      51       2  880606923     3.637332\n",
              "4     166     346       1  886397596     3.333013"
            ]
          },
          "metadata": {
            "tags": []
          },
          "execution_count": 30
        }
      ]
    },
    {
      "cell_type": "markdown",
      "metadata": {
        "id": "pZdTvp_szduk",
        "colab_type": "text"
      },
      "source": [
        "### (b) Calculate RMSE using Cross Validation"
      ]
    },
    {
      "cell_type": "code",
      "metadata": {
        "id": "k-BnXbsLzdul",
        "colab_type": "code",
        "colab": {}
      },
      "source": [
        "class CrossValidation(object):\n",
        "    def __init__(self, metric, data_path=MOVIELENS_DIR):\n",
        "        \"\"\"\n",
        "            INPUT:\n",
        "                metric: string. from['RMSE','P@K','R@K']\n",
        "        \"\"\"\n",
        "        self.folds = self._getData(MOVIELENS_DIR)\n",
        "        self.metric_name = metric\n",
        "        self.metric = self._getMetric(self.metric_name)\n",
        "        \n",
        "    def _getMetric(self, metric_name):\n",
        "        \"\"\"\n",
        "            Don't change this\n",
        "        \"\"\"\n",
        "        switcher = {\n",
        "            'RMSE': self.rmse,\n",
        "            'P@K': self.patk,\n",
        "            'R@K': self.ratk,\n",
        "        }\n",
        "        \n",
        "        return switcher[metric_name]\n",
        "    \n",
        "    @staticmethod\n",
        "    def rmse(data, k, num_users, num_items, pred, true='rating'):\n",
        "        \"\"\"\n",
        "            data: pandas DataFrame. \n",
        "            pred: string. Column name that corresponding to the prediction\n",
        "            true: string. Column name that corresponding to the true rating\n",
        "        \"\"\"\n",
        "        return sqrt(mean_squared_error(data[pred], data[true]))\n",
        "    \n",
        "    # Precision at k\n",
        "    def patk(self, data, k, num_users, num_items, pred, true='rating'):\n",
        "        \"\"\"\n",
        "            data: pandas DataFrame. \n",
        "            k: top-k items retrived\n",
        "            pred: string. Column name that corresponding to the prediction\n",
        "            true: string. Column name that corresponding to the true rating\n",
        "        \"\"\"\n",
        "        prediction = self.getMatrix(data, num_users, num_items, pred)\n",
        "        testSet =  self.getMatrix(data, num_users, num_items, true)\n",
        "    \n",
        "        # Initialize sum and count vars for average calculation\n",
        "        sumPrecisions = 0\n",
        "        countPrecisions = 0\n",
        "\n",
        "        # Define function for converting 1-5 rating to 0/1 (like / don't like)\n",
        "        vf = np.vectorize(lambda x: 1 if x >= 4 else 0)\n",
        "\n",
        "        for userID in range(num_users):\n",
        "            # Pick top K based on predicted rating\n",
        "            userVector = prediction[userID,:]\n",
        "            topK = nlargest(k, range(len(userVector)), userVector.take)\n",
        "\n",
        "            # Convert test set ratings to like / don't like\n",
        "            userTestVector = vf(testSet[userID,:]).nonzero()[0]\n",
        "\n",
        "            # Calculate precision\n",
        "            precision = float(len([item for item in topK if item in userTestVector]))/len(topK)\n",
        "\n",
        "            # Update sum and count\n",
        "            sumPrecisions += precision\n",
        "            countPrecisions += 1\n",
        "\n",
        "        # Return average P@k\n",
        "        return float(sumPrecisions)/countPrecisions\n",
        "    \n",
        "    # Recall at k\n",
        "    def ratk(self, data, k, num_users, num_items, pred, true='rating'):\n",
        "        \"\"\"\n",
        "            data: pandas DataFrame. \n",
        "            k: top-k items relevant\n",
        "            pred: string. Column name that corresponding to the prediction\n",
        "            true: string. Column name that corresponding to the true rating\n",
        "        \"\"\"\n",
        "        prediction = self.getMatrix(data, num_users, num_items, pred)\n",
        "        testSet =  self.getMatrix(data, num_users, num_items, true)\n",
        "        # Initialize sum and count vars for average calculation\n",
        "        sumRecalls = 0\n",
        "        countRecalls = 0\n",
        "\n",
        "        # Define function for converting 1-5 rating to 0/1 (like / don't like)\n",
        "        vf = np.vectorize(lambda x: 1 if x >= 4 else 0)\n",
        "\n",
        "        for userID in range(num_users):\n",
        "            # Pick top K based on predicted rating\n",
        "            userVector = prediction[userID,:]\n",
        "            topK = nlargest(k, range(len(userVector)), userVector.take)\n",
        "\n",
        "            # Convert test set ratings to like / don't like\n",
        "            userTestVector = vf(testSet[userID,:]).nonzero()[0]\n",
        "\n",
        "            # Ignore user if has no ratings in the test set\n",
        "            if (len(userTestVector) == 0):\n",
        "                continue\n",
        "\n",
        "            # Calculate recall\n",
        "            recall = float(len([item for item in topK if item in userTestVector]))/len(userTestVector)\n",
        "\n",
        "            # Update sum and count\n",
        "            sumRecalls += recall\n",
        "            countRecalls += 1\n",
        "\n",
        "        # Return average R@k\n",
        "        return float(sumRecalls)/countRecalls\n",
        "    \n",
        "    @staticmethod\n",
        "    def getMatrix(rating_df, num_users, num_items, column_name):\n",
        "        matrix = np.zeros((num_users, num_items))\n",
        "    \n",
        "        for (index, userID, itemID, value) in rating_df[['userID','itemID', column_name]].itertuples():\n",
        "            matrix[userID-1, itemID-1] = value\n",
        "            \n",
        "        return matrix\n",
        "    \n",
        "    @staticmethod\n",
        "    def _getData(data_path):\n",
        "        \"\"\"\n",
        "            Don't change this function\n",
        "        \"\"\"\n",
        "        folds = []\n",
        "        data_types = ['u{0}.base','u{0}.test']\n",
        "        for i in range(1,6):\n",
        "            train_set = getData(data_path, data_types[0].format(i))\n",
        "            test_set = getData(data_path, data_types[1].format(i))\n",
        "            folds.append([train_set, test_set])\n",
        "        return folds\n",
        "    \n",
        "    def run(self, algorithms, num_users, num_items, k=1):\n",
        "        \"\"\"\n",
        "            5-fold cross-validation\n",
        "            algorithms: list. a list of algorithms. \n",
        "                        eg: [user_cosine_recsys, item_euclidean_recsys]\n",
        "        \"\"\"\n",
        "        \n",
        "        scores = {}\n",
        "        for algorithm in algorithms:\n",
        "            print('Processing algorithm {0}'.format(algorithm.getPredColName()))\n",
        "            fold_scores = []\n",
        "            for fold in self.folds:\n",
        "                algorithm.reset()\n",
        "                algorithm.predict_all(fold[0], num_users, num_items)\n",
        "                prediction = algorithm.evaluate_test(fold[1])\n",
        "                pred_col = algorithm.getPredColName()\n",
        "                fold_scores.append(self.metric(prediction, k, num_users, num_items, pred_col))\n",
        "                \n",
        "            mean = np.mean(fold_scores)\n",
        "            ci_low, ci_high = stats.t.interval(0.95, len(fold_scores)-1, loc=mean, scale=stats.sem(fold_scores))\n",
        "            scores[algorithm.getPredColName()] = [fold_scores, mean, ci_low, ci_high]\n",
        "            \n",
        "        results = scores    \n",
        "    \n",
        "        return results\n",
        "            "
      ],
      "execution_count": 0,
      "outputs": []
    },
    {
      "cell_type": "code",
      "metadata": {
        "id": "eJKyb9l-zdun",
        "colab_type": "code",
        "colab": {}
      },
      "source": [
        "# How to use CrossValidation Class?"
      ],
      "execution_count": 0,
      "outputs": []
    },
    {
      "cell_type": "code",
      "metadata": {
        "id": "CU3rZPtnzdus",
        "colab_type": "code",
        "colab": {}
      },
      "source": [
        "# 1. gather your algorithms in previous steps.\n",
        "algorithm_instances = [user_cosine_recsys,\n",
        "                       item_cosine_recsys]"
      ],
      "execution_count": 0,
      "outputs": []
    },
    {
      "cell_type": "code",
      "metadata": {
        "id": "xf-m7d5Dzdux",
        "colab_type": "code",
        "colab": {}
      },
      "source": [
        "# 2. Instantiate a CrossValidation instance and assign the measurement that you want to use\n",
        "# RMSE, P@K, R@K\n",
        "# Precision at K in this example\n",
        "cv_rmse = CrossValidation('RMSE')"
      ],
      "execution_count": 0,
      "outputs": []
    },
    {
      "cell_type": "code",
      "metadata": {
        "id": "XqcihyZdzduz",
        "colab_type": "code",
        "outputId": "757f1372-4c0c-4feb-e73d-3a3c3c82d74b",
        "colab": {
          "base_uri": "https://localhost:8080/",
          "height": 526
        }
      },
      "source": [
        "# 3. Run CV by giving:\n",
        "#    1> algorithms just gathered\n",
        "#    2> number of users in the full dataset\n",
        "#    3> number of items in the full dataset\n",
        "#    4> precision or recall at K need a K value, so k=5 means precision at 5 in this example\n",
        "# Results include independent results from 5 folds, their mean, and confidence interval.\n",
        "cv_rmse.run(algorithm_instances, num_users, num_items,k=5)"
      ],
      "execution_count": 0,
      "outputs": [
        {
          "output_type": "stream",
          "text": [
            "Processing algorithm user-cosine\n"
          ],
          "name": "stdout"
        },
        {
          "output_type": "stream",
          "text": [
            "20000it [00:09, 2121.72it/s]\n",
            "20000it [00:09, 2140.61it/s]\n",
            "20000it [00:09, 2147.82it/s]\n",
            "20000it [00:09, 2145.95it/s]\n",
            "20000it [00:09, 2137.60it/s]\n"
          ],
          "name": "stderr"
        },
        {
          "output_type": "stream",
          "text": [
            "Processing algorithm item-cosine\n"
          ],
          "name": "stdout"
        },
        {
          "output_type": "stream",
          "text": [
            "20000it [00:09, 2129.85it/s]\n",
            "20000it [00:09, 2128.17it/s]\n",
            "20000it [00:09, 2143.96it/s]\n",
            "20000it [00:09, 2132.26it/s]\n",
            "20000it [00:09, 2145.14it/s]\n"
          ],
          "name": "stderr"
        },
        {
          "output_type": "execute_result",
          "data": {
            "text/plain": [
              "{'item-cosine': [[1.0377631264364244,\n",
              "   1.0207280585350078,\n",
              "   1.0101820660011798,\n",
              "   1.0136832839209695,\n",
              "   1.0180579656376574],\n",
              "  1.020082900106248,\n",
              "  1.0068242686250732,\n",
              "  1.0333415315874226],\n",
              " 'user-cosine': [[1.0264490128856898,\n",
              "   1.0214387664092763,\n",
              "   1.0132940323507253,\n",
              "   1.009400399702741,\n",
              "   1.0161883960008826],\n",
              "  1.017354121469863,\n",
              "  1.0090130800118484,\n",
              "  1.0256951629278774]}"
            ]
          },
          "metadata": {
            "tags": []
          },
          "execution_count": 35
        }
      ]
    },
    {
      "cell_type": "markdown",
      "metadata": {
        "id": "HuFkuYtcxXI3",
        "colab_type": "text"
      },
      "source": [
        "The user-cosine performs better than item-cosine with lower RMSE values bescause users have more rating data than items.The average number of ratings per user (more than 1600 movies) is much greater than the average number of ratings per item (more than 900 users)."
      ]
    },
    {
      "cell_type": "markdown",
      "metadata": {
        "id": "nJCFpLY25JuY",
        "colab_type": "text"
      },
      "source": [
        "## Probabilistic Matrix Factorization(PMF)"
      ]
    },
    {
      "cell_type": "code",
      "metadata": {
        "id": "AI1hS4CP5RVP",
        "colab_type": "code",
        "colab": {}
      },
      "source": [
        "class PMFRecSys(object):\n",
        "    def __init__(self, num_feat=10, epsilon=1, _lambda=0.1, momentum=0.8, maxepoch=20, num_batches=10, batch_size=1000):\n",
        "        \"\"\"\n",
        "            num_feat: int, number of latent features\n",
        "            epsilon: float, learning rate\n",
        "            _lambda: float, L2 regularization,\n",
        "            momentum: float, momentum of the gradient,\n",
        "            maxepoch: float, Number of epoch before stop,\n",
        "            num_batches: int, Number of batches in each epoch (for SGD optimization),\n",
        "            batch_size:Number int, of training samples used in each batches (for SGD optimization)\n",
        "            \n",
        "        \"\"\"\n",
        "        self.num_feat = num_feat  # Number of latent features,\n",
        "        self.epsilon = epsilon  # learning rate,\n",
        "        self._lambda = _lambda  # L2 regularization,\n",
        "        self.momentum = momentum  # momentum of the gradient,\n",
        "        self.maxepoch = maxepoch  # Number of epoch before stop,\n",
        "        self.num_batches = num_batches  # Number of batches in each epoch (for SGD optimization),\n",
        "        self.batch_size = batch_size  # Number of training samples used in each batches (for SGD optimization)\n",
        "        self.test = False\n",
        "        self.w_Item = None  # Item feature vectors\n",
        "        self.w_User = None  # User feature vectors\n",
        "        \n",
        "        self.rmse_train = []\n",
        "        self.rmse_test = []\n",
        "        self.pred_column_name='PMF'\n",
        "\n",
        "    def predict_all(self, train_vec, num_user, num_item):\n",
        "        \"\"\"\n",
        "            INPUT: \n",
        "                data: pandas DataFrame. columns=['userID', 'itemID', 'rating'...]\n",
        "                num_user: scalar. number of users\n",
        "                num_item: scalar. number of items\n",
        "            OUTPUT:\n",
        "                no return... this method update w_User and w_Item\n",
        "            \n",
        "            NOTES:\n",
        "                self.W_Item and self.W_User are use to do the final predition for a user\n",
        "                \n",
        "        \"\"\"\n",
        "        # select 'userID', 'itemID', 'rating only\n",
        "        train_vec = train_vec.iloc[:, :3].values\n",
        "        if self.test:\n",
        "          train_vec, val_vec = train_test_split(train_vec)\n",
        "          pairs_val = val_vec.shape[0]\n",
        "          self.mean_rating_test = np.mean(val_vec[:, 2])\n",
        "        self.mean_rating_train = np.mean(train_vec[:, 2])  # avg rating\n",
        "        pairs_train = train_vec.shape[0]  # num of rating\n",
        "        \n",
        "\n",
        "        # to avoid out of bound\n",
        "        num_user += 1  \n",
        "        num_item += 1  \n",
        "        # initialize\n",
        "        self.epoch = 0\n",
        "        \n",
        "        \n",
        "        #borrow codes from https://github.com/fuhailin/Probabilistic-Matrix-Factorization\n",
        "        \n",
        "        self.w_Item = sqrt(0.1) * np.random.randn(num_item,self.num_feat)  # item M x D \n",
        "        self.w_User = sqrt(0.1) * np.random.randn(num_user,self.num_feat)  # user N x D \n",
        "    \n",
        "        \n",
        "\n",
        "        self.w_Item_inc = np.zeros((num_item, self.num_feat))  # accumulate the gradient\n",
        "        self.w_User_inc = np.zeros((num_user, self.num_feat))  # accumulate the gradient\n",
        "        while self.epoch < self.maxepoch: \n",
        "            self.epoch += 1\n",
        "\n",
        "            # Shuffle training truples\n",
        "            shuffled_order = np.arange(train_vec.shape[0])  \n",
        "            np.random.shuffle(shuffled_order)  #shuffled\n",
        "\n",
        "            # Batch update\n",
        "            for batch in range(self.num_batches): \n",
        "                # print \"epoch %d batch %d\" % (self.epoch, batch+1)\n",
        "\n",
        "                test = np.arange(self.batch_size * batch, self.batch_size * (batch + 1))\n",
        "                batch_idx = np.mod(test, shuffled_order.shape[0])  # get the real data index\n",
        "\n",
        "\n",
        "                batch_UserID = np.array(train_vec[shuffled_order[batch_idx], 0], dtype='int32')\n",
        "                batch_ItemID = np.array(train_vec[shuffled_order[batch_idx], 1], dtype='int32')\n",
        "\n",
        "                # Compute Compute mean rating subtracted rating  \n",
        "                \n",
        "                \n",
        "                pred_out = np.sum(np.multiply(self.w_User[batch_UserID,:], self.w_Item[batch_ItemID,:]), \n",
        "                                  axis=1) #size (batch_size, )\n",
        "            \n",
        "            \n",
        "              \n",
        "\n",
        "                rawErr = pred_out + self.mean_rating_train - train_vec[shuffled_order[batch_idx], 2]\n",
        "\n",
        "                # Compute gradients\n",
        "                Ix_User = 2 * np.multiply(rawErr[:, np.newaxis], self.w_Item[batch_ItemID, :]) \\\n",
        "                       + self._lambda * self.w_User[batch_UserID, :]\n",
        "                Ix_Item = 2 * np.multiply(rawErr[:, np.newaxis], self.w_User[batch_UserID, :]) \\\n",
        "                       + self._lambda * (self.w_Item[batch_ItemID, :])  # np.newaxis :increase the dimension\n",
        "\n",
        "                dw_Item = np.zeros((num_item, self.num_feat))\n",
        "                dw_User = np.zeros((num_user, self.num_feat))\n",
        "\n",
        "                # loop to aggreate the gradients of the same element\n",
        "                for i in range(self.batch_size):\n",
        "                    dw_Item[batch_ItemID[i], :] += Ix_Item[i, :]\n",
        "                    dw_User[batch_UserID[i], :] += Ix_User[i, :]\n",
        "\n",
        "                # Update with momentum\n",
        "                self.w_Item_inc = self.momentum * self.w_Item_inc + self.epsilon * dw_Item / self.batch_size\n",
        "                self.w_User_inc = self.momentum * self.w_User_inc + self.epsilon * dw_User / self.batch_size\n",
        "\n",
        "                self.w_Item = self.w_Item - self.w_Item_inc\n",
        "                self.w_User = self.w_User - self.w_User_inc\n",
        "\n",
        "                # Compute Compute mean rating subtracted rating \n",
        "                if batch == self.num_batches - 1:\n",
        "                    train_user_idx = np.array(train_vec[:, 0], dtype='int32')\n",
        "                    train_item_idx = np.array(train_vec[:, 1], dtype='int32')\n",
        "                    \n",
        "            \n",
        "                    pred_out = np.sum(np.multiply(self.w_User[np.array(train_vec[:, 0], dtype='int32'), :],\n",
        "                                                  self.w_Item[np.array(train_vec[:, 1], dtype='int32'), :]),\n",
        "                                      axis=1)# size(pairs_train, )\n",
        "            \n",
        "            \n",
        "                    \n",
        "                    rawErr = pred_out + self.mean_rating_train - train_vec[:, 2] \n",
        "                    obj = np.linalg.norm(rawErr) ** 2 \\\n",
        "                          + 0.5 * self._lambda * (np.linalg.norm(self.w_User) ** 2 + np.linalg.norm(self.w_Item) ** 2)\n",
        "\n",
        "                    self.rmse_train.append(np.sqrt(obj / pairs_train))\n",
        "\n",
        "                # Compute validation error\n",
        "                if batch == self.num_batches - 1 and self.test:\n",
        "                    val_user_idx = np.array(val_vec[:, 0], dtype='int32')\n",
        "                    val_item_idx = np.array(val_vec[:, 1], dtype='int32')\n",
        "                    \n",
        "            \n",
        "                    pred_out = np.sum(np.multiply(self.w_User[np.array(val_vec[:, 0], dtype='int32'), :],\n",
        "                                                  self.w_Item[np.array(val_vec[:, 1], dtype='int32'), :]),\n",
        "                                      axis=1) #size(pairs_val, )\n",
        "            \n",
        "            \n",
        "                   \n",
        "                    rawErr = pred_out + self.mean_rating_test - val_vec[:, 2]\n",
        "                    self.rmse_test.append(np.linalg.norm(rawErr) / np.sqrt(pairs_val))\n",
        "\n",
        "\n",
        "        \n",
        "\n",
        "        \n",
        "    def evaluate_test(self, test_df, copy=False):\n",
        "        \"\"\"\n",
        "            INPUT:\n",
        "                data: pandas DataFrame. columns=['userID', 'itemID', 'rating'...]\n",
        "            OUTPUT:\n",
        "                predictions:  pandas DataFrame. \n",
        "                              columns=['userID', 'itemID', 'rating', 'base-method'...]\n",
        "                              \n",
        "        \"\"\"\n",
        "        if copy:\n",
        "            prediction = pd.DataFrame(test_df.copy(), columns=['userID', 'itemID', 'rating'])\n",
        "        else:\n",
        "            prediction = pd.DataFrame(test_df, columns=['userID', 'itemID', 'rating'])\n",
        "        prediction[self.pred_column_name] = np.nan\n",
        "        \n",
        "        for (index, \n",
        "             userID, \n",
        "             itemID) in tqdm(prediction[['userID','itemID']].itertuples()):\n",
        "            prediction.loc[index, self.pred_column_name] = (np.dot(self.w_Item, self.w_User[int(userID), :]) + self.mean_rating_train)[int(itemID)]\n",
        "    \n",
        "        return prediction\n",
        "    \n",
        "    def plot_error(self):\n",
        "      if self.test:\n",
        "        plt.plot(range(pmf.maxepoch), pmf.rmse_test, marker='v', label='Test Data')\n",
        "      plt.plot(range(pmf.maxepoch), pmf.rmse_train, marker='o', label='Training Data')\n",
        "      plt.title('The MovieLens Dataset Learning Curve')\n",
        "      plt.xlabel('Number of Epochs')\n",
        "      plt.ylabel('RMSE')\n",
        "      plt.legend()\n",
        "      plt.grid()\n",
        "      plt.show()\n",
        "          \n",
        "    def getPredColName(self):\n",
        "        \"\"\"\n",
        "            return prediction column name\n",
        "        \"\"\"\n",
        "        return self.pred_column_name\n",
        "    \n",
        "    def reset(self):\n",
        "        \"\"\"\n",
        "            reuse the instance of the class by removing model\n",
        "        \"\"\"\n",
        "        try:\n",
        "            self.w_Item = None \n",
        "            self.w_User = None \n",
        "        except:\n",
        "            print(\"You do not have w_Item, w_User\")\n",
        "\n",
        "    def set_params(self, parameters):\n",
        "        if isinstance(parameters, dict):\n",
        "            self.num_feat = parameters.get(\"num_feat\", 10)\n",
        "            self.epsilon = parameters.get(\"epsilon\", 1)\n",
        "            self._lambda = parameters.get(\"_lambda\", 0.1)\n",
        "            self.momentum = parameters.get(\"momentum\", 0.8)\n",
        "            self.maxepoch = parameters.get(\"maxepoch\", 20)\n",
        "            self.num_batches = parameters.get(\"num_batches\", 10)\n",
        "            self.batch_size = parameters.get(\"batch_size\", 1000)\n",
        "            self.test = parameters.get(\"test_mode\", False)"
      ],
      "execution_count": 0,
      "outputs": []
    },
    {
      "cell_type": "code",
      "metadata": {
        "id": "ce7wlxycY76k",
        "colab_type": "code",
        "colab": {}
      },
      "source": [
        "pmf = PMFRecSys()\n",
        "pmf.set_params({\"num_feat\": 10, \"epsilon\": 1, \"_lambda\": 0.1, \"momentum\": 0.8, \"maxepoch\": 15, \"num_batches\": 100,\n",
        "                \"batch_size\": 1000, 'test_mode':False})"
      ],
      "execution_count": 0,
      "outputs": []
    },
    {
      "cell_type": "code",
      "metadata": {
        "id": "p56cFny7Y_Z_",
        "colab_type": "code",
        "outputId": "9dd5fdfd-6704-4dc1-f7c1-a56b3b1c6a8b",
        "colab": {
          "base_uri": "https://localhost:8080/",
          "height": 295
        }
      },
      "source": [
        "pmf.predict_all(rating_df, num_users, num_items)\n",
        "pmf.plot_error()"
      ],
      "execution_count": 0,
      "outputs": [
        {
          "output_type": "display_data",
          "data": {
            "image/png": "[encoded data removed]",
            "text/plain": [
              "<Figure size 432x288 with 1 Axes>"
            ]
          },
          "metadata": {
            "tags": []
          }
        }
      ]
    },
    {
      "cell_type": "markdown",
      "metadata": {
        "id": "aGK4h7viud7D",
        "colab_type": "text"
      },
      "source": [
        "Maxepoch = 15, because the slope of RMSE starts to decrease after this point."
      ]
    },
    {
      "cell_type": "markdown",
      "metadata": {
        "id": "-tkSLeDqzdu1",
        "colab_type": "text"
      },
      "source": [
        "## Performance Comparison"
      ]
    },
    {
      "cell_type": "markdown",
      "metadata": {
        "id": "00OSiRl9zdu2",
        "colab_type": "text"
      },
      "source": [
        "### Calculate RMSE, P@k, and R@k for all previous recommenders using Cross Validation"
      ]
    },
    {
      "cell_type": "code",
      "metadata": {
        "id": "YS4qfLOAzdu2",
        "colab_type": "code",
        "colab": {}
      },
      "source": [
        "algorithm_instances = [popularity_recsys, \n",
        "                       average_user_rating_recsys, \n",
        "                       user_cosine_recsys,\n",
        "                       item_cosine_recsys,\n",
        "                       pmf]"
      ],
      "execution_count": 0,
      "outputs": []
    },
    {
      "cell_type": "code",
      "metadata": {
        "id": "Syw2_FcCzCIb",
        "colab_type": "code",
        "outputId": "622a7fa2-7583-4f74-a6b8-9458a8e8642f",
        "colab": {
          "base_uri": "https://localhost:8080/",
          "height": 1000
        }
      },
      "source": [
        "cv_rmse = CrossValidation('RMSE')\n",
        "cv_rmse.run(algorithm_instances, num_users, num_items,k=5)"
      ],
      "execution_count": 0,
      "outputs": [
        {
          "output_type": "stream",
          "text": [
            "Processing algorithm popularity\n"
          ],
          "name": "stdout"
        },
        {
          "output_type": "stream",
          "text": [
            "20000it [00:09, 2086.00it/s]\n",
            "20000it [00:09, 2137.30it/s]\n",
            "20000it [00:09, 2132.33it/s]\n",
            "20000it [00:09, 2136.01it/s]\n",
            "20000it [00:09, 2070.82it/s]\n"
          ],
          "name": "stderr"
        },
        {
          "output_type": "stream",
          "text": [
            "Processing algorithm useraverage\n"
          ],
          "name": "stdout"
        },
        {
          "output_type": "stream",
          "text": [
            "20000it [00:09, 2144.33it/s]\n",
            "20000it [00:09, 2157.73it/s]\n",
            "20000it [00:09, 2125.87it/s]\n",
            "20000it [00:09, 2144.69it/s]\n",
            "20000it [00:09, 2136.85it/s]\n"
          ],
          "name": "stderr"
        },
        {
          "output_type": "stream",
          "text": [
            "Processing algorithm user-cosine\n"
          ],
          "name": "stdout"
        },
        {
          "output_type": "stream",
          "text": [
            "20000it [00:09, 2125.13it/s]\n",
            "20000it [00:09, 2145.50it/s]\n",
            "20000it [00:09, 2154.56it/s]\n",
            "20000it [00:09, 2129.52it/s]\n",
            "20000it [00:09, 2122.74it/s]\n"
          ],
          "name": "stderr"
        },
        {
          "output_type": "stream",
          "text": [
            "Processing algorithm item-cosine\n"
          ],
          "name": "stdout"
        },
        {
          "output_type": "stream",
          "text": [
            "20000it [00:09, 2142.14it/s]\n",
            "20000it [00:09, 2157.85it/s]\n",
            "20000it [00:09, 2127.89it/s]\n",
            "20000it [00:09, 2145.47it/s]\n",
            "20000it [00:09, 2119.51it/s]\n"
          ],
          "name": "stderr"
        },
        {
          "output_type": "stream",
          "text": [
            "Processing algorithm PMF\n"
          ],
          "name": "stdout"
        },
        {
          "output_type": "stream",
          "text": [
            "20000it [00:16, 1198.68it/s]\n",
            "20000it [00:16, 1184.93it/s]\n",
            "20000it [00:16, 1206.89it/s]\n",
            "20000it [00:16, 1209.41it/s]\n",
            "20000it [00:16, 1192.26it/s]\n"
          ],
          "name": "stderr"
        },
        {
          "output_type": "execute_result",
          "data": {
            "text/plain": [
              "{'PMF': [[0.9890461523121571,\n",
              "   0.9600737125800379,\n",
              "   0.9509643861141105,\n",
              "   0.9550382459411881,\n",
              "   0.9581241214762187],\n",
              "  0.9626493236847425,\n",
              "  0.9438352451892071,\n",
              "  0.9814634021802779],\n",
              " 'item-cosine': [[1.0377631264364244,\n",
              "   1.0207280585350078,\n",
              "   1.0101820660011798,\n",
              "   1.0136832839209695,\n",
              "   1.0180579656376574],\n",
              "  1.020082900106248,\n",
              "  1.0068242686250732,\n",
              "  1.0333415315874226],\n",
              " 'popularity': [[3.177941281084362,\n",
              "   3.1750480150769977,\n",
              "   3.147474655005899,\n",
              "   3.146164503024159,\n",
              "   3.1488360007536382],\n",
              "  3.1590928909890112,\n",
              "  3.139292746995387,\n",
              "  3.1788930349826354],\n",
              " 'user-cosine': [[1.0264490128856898,\n",
              "   1.0214387664092763,\n",
              "   1.0132940323507253,\n",
              "   1.009400399702741,\n",
              "   1.0161883960008826],\n",
              "  1.017354121469863,\n",
              "  1.0090130800118484,\n",
              "  1.0256951629278774],\n",
              " 'useraverage': [[1.0629951276561334,\n",
              "   1.0467467492319966,\n",
              "   1.0328964562995389,\n",
              "   1.0366575971298078,\n",
              "   1.0392923504800367],\n",
              "  1.0437176561595025,\n",
              "  1.0289303496379316,\n",
              "  1.0585049626810734]}"
            ]
          },
          "metadata": {
            "tags": []
          },
          "execution_count": 40
        }
      ]
    },
    {
      "cell_type": "code",
      "metadata": {
        "id": "nGna1XhuzTs-",
        "colab_type": "code",
        "outputId": "9a07dd49-92a5-418e-a796-050e3211dc2c",
        "colab": {
          "base_uri": "https://localhost:8080/",
          "height": 1000
        }
      },
      "source": [
        "cv_patk = CrossValidation('P@K')\n",
        "cv_patk.run(algorithm_instances, num_users, num_items,k=5)"
      ],
      "execution_count": 0,
      "outputs": [
        {
          "output_type": "stream",
          "text": [
            "Processing algorithm popularity\n"
          ],
          "name": "stdout"
        },
        {
          "output_type": "stream",
          "text": [
            "20000it [00:09, 2112.38it/s]\n",
            "20000it [00:09, 2139.38it/s]\n",
            "20000it [00:09, 2152.11it/s]\n",
            "20000it [00:09, 2140.92it/s]\n",
            "20000it [00:09, 2129.70it/s]\n"
          ],
          "name": "stderr"
        },
        {
          "output_type": "stream",
          "text": [
            "Processing algorithm useraverage\n"
          ],
          "name": "stdout"
        },
        {
          "output_type": "stream",
          "text": [
            "20000it [00:09, 2125.82it/s]\n",
            "20000it [00:09, 2124.66it/s]\n",
            "20000it [00:09, 2122.05it/s]\n",
            "20000it [00:09, 2110.98it/s]\n",
            "20000it [00:09, 2146.08it/s]\n"
          ],
          "name": "stderr"
        },
        {
          "output_type": "stream",
          "text": [
            "Processing algorithm user-cosine\n"
          ],
          "name": "stdout"
        },
        {
          "output_type": "stream",
          "text": [
            "20000it [00:09, 2163.27it/s]\n",
            "20000it [00:09, 2125.56it/s]\n",
            "20000it [00:09, 2142.50it/s]\n",
            "20000it [00:09, 2127.28it/s]\n",
            "20000it [00:09, 2145.94it/s]\n"
          ],
          "name": "stderr"
        },
        {
          "output_type": "stream",
          "text": [
            "Processing algorithm item-cosine\n"
          ],
          "name": "stdout"
        },
        {
          "output_type": "stream",
          "text": [
            "20000it [00:09, 2159.24it/s]\n",
            "20000it [00:09, 2144.93it/s]\n",
            "20000it [00:09, 2144.38it/s]\n",
            "20000it [00:09, 2132.28it/s]\n",
            "20000it [00:09, 2125.43it/s]\n"
          ],
          "name": "stderr"
        },
        {
          "output_type": "stream",
          "text": [
            "Processing algorithm PMF\n"
          ],
          "name": "stdout"
        },
        {
          "output_type": "stream",
          "text": [
            "20000it [00:16, 1220.28it/s]\n",
            "20000it [00:16, 1198.21it/s]\n",
            "20000it [00:16, 1204.32it/s]\n",
            "20000it [00:16, 1193.40it/s]\n",
            "20000it [00:16, 1193.65it/s]\n"
          ],
          "name": "stderr"
        },
        {
          "output_type": "execute_result",
          "data": {
            "text/plain": [
              "{'PMF': [[0.36139978791092336,\n",
              "   0.49607635206786993,\n",
              "   0.6154825026511149,\n",
              "   0.6347826086956528,\n",
              "   0.6176033934252393],\n",
              "  0.5450689289501601,\n",
              "  0.4002639539368521,\n",
              "  0.6898739039634681],\n",
              " 'item-cosine': [[0.34316012725344736,\n",
              "   0.483563096500532,\n",
              "   0.6021208907741271,\n",
              "   0.6248144220572649,\n",
              "   0.6074231177094392],\n",
              "  0.5322163308589621,\n",
              "  0.3837005215009889,\n",
              "  0.6807321402169354],\n",
              " 'popularity': [[0.36924708377518656,\n",
              "   0.4965005302226948,\n",
              "   0.6152704135737019,\n",
              "   0.6426299045599162,\n",
              "   0.6292682926829279],\n",
              "  0.5505832449628855,\n",
              "  0.40544114481568705,\n",
              "  0.6957253451100839],\n",
              " 'user-cosine': [[0.37179215270413657,\n",
              "   0.503923647932133,\n",
              "   0.621633085896077,\n",
              "   0.6483563096500541,\n",
              "   0.6335100742311777],\n",
              "  0.5558430540827157,\n",
              "  0.40959849499983714,\n",
              "  0.7020876131655943],\n",
              " 'useraverage': [[0.30604453870625714,\n",
              "   0.4305408271474029,\n",
              "   0.5321314952279973,\n",
              "   0.5520678685047737,\n",
              "   0.5474019088016986],\n",
              "  0.4736373276776259,\n",
              "  0.3419993013451059,\n",
              "  0.6052753540101459]}"
            ]
          },
          "metadata": {
            "tags": []
          },
          "execution_count": 41
        }
      ]
    },
    {
      "cell_type": "code",
      "metadata": {
        "id": "SG8CkQc9zcnN",
        "colab_type": "code",
        "outputId": "102bc39f-d2fe-4ea1-bbdd-7af63526b9ed",
        "colab": {
          "base_uri": "https://localhost:8080/",
          "height": 1000
        }
      },
      "source": [
        "cv_ratk = CrossValidation('R@K')\n",
        "cv_ratk.run(algorithm_instances, num_users, num_items,k=5)"
      ],
      "execution_count": 0,
      "outputs": [
        {
          "output_type": "stream",
          "text": [
            "Processing algorithm popularity\n"
          ],
          "name": "stdout"
        },
        {
          "output_type": "stream",
          "text": [
            "20000it [00:09, 2124.33it/s]\n",
            "20000it [00:09, 2119.50it/s]\n",
            "20000it [00:09, 2075.87it/s]\n",
            "20000it [00:09, 2146.07it/s]\n",
            "20000it [00:09, 2165.37it/s]\n"
          ],
          "name": "stderr"
        },
        {
          "output_type": "stream",
          "text": [
            "Processing algorithm useraverage\n"
          ],
          "name": "stdout"
        },
        {
          "output_type": "stream",
          "text": [
            "20000it [00:09, 2134.08it/s]\n",
            "20000it [00:09, 2163.58it/s]\n",
            "20000it [00:09, 2157.60it/s]\n",
            "20000it [00:09, 2134.13it/s]\n",
            "20000it [00:09, 2126.66it/s]\n"
          ],
          "name": "stderr"
        },
        {
          "output_type": "stream",
          "text": [
            "Processing algorithm user-cosine\n"
          ],
          "name": "stdout"
        },
        {
          "output_type": "stream",
          "text": [
            "20000it [00:09, 2110.99it/s]\n",
            "20000it [00:09, 2139.06it/s]\n",
            "20000it [00:09, 2114.24it/s]\n",
            "20000it [00:09, 2128.47it/s]\n",
            "20000it [00:09, 2109.47it/s]\n"
          ],
          "name": "stderr"
        },
        {
          "output_type": "stream",
          "text": [
            "Processing algorithm item-cosine\n"
          ],
          "name": "stdout"
        },
        {
          "output_type": "stream",
          "text": [
            "20000it [00:09, 2131.24it/s]\n",
            "20000it [00:09, 2115.96it/s]\n",
            "20000it [00:09, 2097.88it/s]\n",
            "20000it [00:09, 2103.35it/s]\n",
            "20000it [00:09, 2081.07it/s]\n"
          ],
          "name": "stderr"
        },
        {
          "output_type": "stream",
          "text": [
            "Processing algorithm PMF\n"
          ],
          "name": "stdout"
        },
        {
          "output_type": "stream",
          "text": [
            "20000it [00:16, 1205.97it/s]\n",
            "20000it [00:16, 1199.50it/s]\n",
            "20000it [00:16, 1207.80it/s]\n",
            "20000it [00:16, 1208.08it/s]\n",
            "20000it [00:16, 1208.55it/s]\n"
          ],
          "name": "stderr"
        },
        {
          "output_type": "execute_result",
          "data": {
            "text/plain": [
              "{'PMF': [[0.3382943802019999,\n",
              "   0.4280276278078083,\n",
              "   0.5286933538865981,\n",
              "   0.5440993633995626,\n",
              "   0.5609326125352756],\n",
              "  0.4800094675662489,\n",
              "  0.36252372695497526,\n",
              "  0.5974952081775226],\n",
              " 'item-cosine': [[0.3277711938444533,\n",
              "   0.4237782250680911,\n",
              "   0.5191391022223312,\n",
              "   0.5448659224612776,\n",
              "   0.5593011306991799],\n",
              "  0.4749711148590666,\n",
              "  0.35357317503649865,\n",
              "  0.5963690546816346],\n",
              " 'popularity': [[0.3466588624187514,\n",
              "   0.4274468698270901,\n",
              "   0.5269205125667804,\n",
              "   0.5518738761026849,\n",
              "   0.5674793185065369],\n",
              "  0.4840758878843688,\n",
              "  0.3671373629798323,\n",
              "  0.6010144127889052],\n",
              " 'user-cosine': [[0.34778041993806913,\n",
              "   0.4314035774468209,\n",
              "   0.5293633772333985,\n",
              "   0.5553818201403046,\n",
              "   0.5674144230096255],\n",
              "  0.4862687235536437,\n",
              "  0.3694473610987218,\n",
              "  0.6030900860085656],\n",
              " 'useraverage': [[0.30505841002027845,\n",
              "   0.39554692074366876,\n",
              "   0.48030412192442223,\n",
              "   0.5045885853815734,\n",
              "   0.5211179870422066],\n",
              "  0.44132320502242983,\n",
              "  0.32931026359142457,\n",
              "  0.5533361464534351]}"
            ]
          },
          "metadata": {
            "tags": []
          },
          "execution_count": 42
        }
      ]
    },
    {
      "cell_type": "markdown",
      "metadata": {
        "id": "iIQMf3c0s5vM",
        "colab_type": "text"
      },
      "source": [
        "RMSE:\n",
        "\n",
        "'PMF': 0.96 (0.94-0.98)\n",
        "\n",
        "'item-cosine': 1.02 (1.01-1.03)\n",
        "\n",
        "'popularity': 3.16 (3.14-3.18)\n",
        "\n",
        "'user-cosine': 1.02 (1.01-1.03)\n",
        "\n",
        "'useraverage': 1.04 (1.03-1.06)\n",
        "\n",
        "\n",
        "P@k:\n",
        "\n",
        "'PMF': 0.548 (0.40-0.69)\n",
        "\n",
        "'item-cosine': 0.53 (0.38-0.68)\n",
        "\n",
        "'popularity': 0.55 (0.41-0.70)\n",
        "\n",
        "'user-cosine': 0.56 (0.41-0.70)\n",
        "\n",
        "'useraverage': 0.47 (0.34-0.60)\n",
        "\n",
        "R@k:\n",
        "\n",
        "'PMF': 0.48 (0.36-0.60)\n",
        "\n",
        "'item-cosine': 0.47 (0.35-0.60)\n",
        "\n",
        "'popularity': 0.48 (0.37-0.60)\n",
        "\n",
        "'user-cosine': 0.49 (0.37-0.60)\n",
        "\n",
        "'useraverage': 0.44 (0.33-0.55)\n"
      ]
    },
    {
      "cell_type": "markdown",
      "metadata": {
        "id": "4ndWFEgUzdu4",
        "colab_type": "text"
      },
      "source": [
        "### Limitation of metrics"
      ]
    },
    {
      "cell_type": "markdown",
      "metadata": {
        "id": "epEk6ZD51n6N",
        "colab_type": "text"
      },
      "source": [
        "User average: P@k and R@k\n",
        "\n",
        "Because the ranking metrics is meanless since each user will have the same rating for each movie.\n",
        "\n",
        "Popularity: RMSE\n",
        "\n",
        "Because popularity is between 0 and 1 which is not comparable to the ratings (1-5).\n",
        "\n"
      ]
    },
    {
      "cell_type": "markdown",
      "metadata": {
        "id": "MwhO0gei7dd7",
        "colab_type": "text"
      },
      "source": [
        "#Best recommenders of RMSE, P@k and R @k"
      ]
    },
    {
      "cell_type": "markdown",
      "metadata": {
        "id": "-h-7FJYD7bOD",
        "colab_type": "text"
      },
      "source": [
        "PMF work the best for RMSE since pmf optimize square root.\n",
        "User Cosine works the best for all remaining metrics. As mentioned in 2(b), user-user comparison has better similarity compared to item-item comparison. Also user-cosine considers personal perference while useraverage and popularity do not."
      ]
    },
    {
      "cell_type": "markdown",
      "metadata": {
        "id": "CqM4mryu6Vew",
        "colab_type": "text"
      },
      "source": [
        "#Does good performance on RMSE imply good performance on ranking metrics and vice versa?"
      ]
    },
    {
      "cell_type": "markdown",
      "metadata": {
        "id": "9Ap3sZfe6ZSm",
        "colab_type": "text"
      },
      "source": [
        "No, they evaluate different things. RMSE evaluates how well the rating is predicted compared to the real rating, while R@k and P@k evalutes how the recommender system rank thing that users are more interested in the list. "
      ]
    },
    {
      "cell_type": "markdown",
      "metadata": {
        "id": "wkx8GW4wzdu8",
        "colab_type": "text"
      },
      "source": [
        "## Similarity Evaluation"
      ]
    },
    {
      "cell_type": "markdown",
      "metadata": {
        "id": "HnLcDctYzdu9",
        "colab_type": "text"
      },
      "source": [
        "### list the top 5 most similar movie names according to item-item cosine similarity"
      ]
    },
    {
      "cell_type": "code",
      "metadata": {
        "id": "iPywvO-jDVyt",
        "colab_type": "code",
        "outputId": "a9c1d6dd-d2d2-4a68-fb7e-439ad58c76a2",
        "colab": {
          "base_uri": "https://localhost:8080/",
          "height": 708
        }
      },
      "source": [
        "fieldsMovies = ['movieID', 'movieTitle', 'releaseDate', 'videoReleaseDate', 'IMDbURL', 'unknown', 'action', 'adventure',\n",
        "          'animation', 'childrens', 'comedy', 'crime', 'documentary', 'drama', 'fantasy', 'filmNoir', 'horror',\n",
        "          'musical', 'mystery', 'romance','sciFi', 'thriller', 'war', 'western']\n",
        "moviesDF = pd.read_csv(os.path.join(MOVIELENS_DIR, 'u.item'), sep='|', names=fieldsMovies, encoding='latin-1')\n",
        "\n",
        "rating = dataPreprocessor(rating_df, num_users, num_items).T\n",
        "item_cos = 1- pairwise_distances(rating, metric='cosine')\n",
        "\n",
        "movie1 = item_cos[101,:] # All Dogs Go to Heaven 2\n",
        "movie1_list = (movie1.argsort()[-6:][::-1]+1)\n",
        "\n",
        "for movie in movie1_list:\n",
        "  print (moviesDF[['movieTitle']].iloc[movie,:])\n",
        "print('')\n",
        "\n",
        "movie2 = item_cos[5,:] # Twelve Monkeys\n",
        "movie2_list = (movie2.argsort()[-6:][::-1]+1)\n",
        "for movie in movie2_list:\n",
        "  print (moviesDF[['movieTitle']].iloc[movie,:])\n",
        "print('')\n",
        "\n",
        "movie3 = item_cos[200,:] # Groundhog Day\n",
        "movie3_list = (movie3.argsort()[-6:][::-1]+1)\n",
        "for movie in movie3_list:\n",
        "  print (moviesDF[['movieTitle']].iloc[movie,:])"
      ],
      "execution_count": 0,
      "outputs": [
        {
          "output_type": "stream",
          "text": [
            "movieTitle    All Dogs Go to Heaven 2 (1996)\n",
            "Name: 102, dtype: object\n",
            "movieTitle    Sound of Music, The (1965)\n",
            "Name: 142, dtype: object\n",
            "movieTitle    So Dear to My Heart (1949)\n",
            "Name: 625, dtype: object\n",
            "movieTitle    Red Rock West (1992)\n",
            "Name: 465, dtype: object\n",
            "movieTitle    E.T. the Extra-Terrestrial (1982)\n",
            "Name: 422, dtype: object\n",
            "movieTitle    Mary Poppins (1964)\n",
            "Name: 418, dtype: object\n",
            "\n",
            "movieTitle    Twelve Monkeys (1995)\n",
            "Name: 6, dtype: object\n",
            "movieTitle    Machine, The (1994)\n",
            "Name: 1370, dtype: object\n",
            "movieTitle    Jupiter's Wife (1994)\n",
            "Name: 1129, dtype: object\n",
            "movieTitle    Family Thing, A (1996)\n",
            "Name: 1196, dtype: object\n",
            "movieTitle    Star Trek: First Contact (1996)\n",
            "Name: 221, dtype: object\n",
            "movieTitle    Top Hat (1935)\n",
            "Name: 1202, dtype: object\n",
            "\n",
            "movieTitle    Groundhog Day (1993)\n",
            "Name: 201, dtype: object\n",
            "movieTitle    Psycho (1960)\n",
            "Name: 184, dtype: object\n",
            "movieTitle    Mirror Has Two Faces, The (1996)\n",
            "Name: 219, dtype: object\n",
            "movieTitle    Evil Dead II (1987)\n",
            "Name: 200, dtype: object\n",
            "movieTitle    Amityville 1992: It's About Time (1992)\n",
            "Name: 436, dtype: object\n",
            "movieTitle    Kid in King Arthur's Court, A (1995)\n",
            "Name: 559, dtype: object\n"
          ],
          "name": "stdout"
        }
      ]
    },
    {
      "cell_type": "markdown",
      "metadata": {
        "id": "7DhRFfchJn69",
        "colab_type": "text"
      },
      "source": [
        "Movie: All Dogs Go to Heaven 2 (1996)\n",
        "\n",
        "**Top 5 most similar movies:**\n",
        "\n",
        "Sound of Music, The (1965)\n",
        "\n",
        "So Dear to My Heart (1949)\n",
        "\n",
        "Red Rock West (1992)\n",
        "\n",
        "E.T. the Extra-Terrestrial (1982)\n",
        "\n",
        "Mary Poppins (1964)\n",
        "\n",
        "_______________________________\n",
        "Movie: Twelve Monkeys (1995)\n",
        "\n",
        "**Top 5 most similar movies:**\n",
        "\n",
        "Machine, The (1994)\n",
        "\n",
        "Jupiter's Wife (1994)\n",
        "\n",
        "Family Thing, A (1996)\n",
        "\n",
        "Star Trek: First Contact (1996)\n",
        "\n",
        "Top Hat (1935)\n",
        "__________________________\n",
        "Movie: Groundhog Day (1993)\n",
        "\n",
        "**Top 5 most similar movies:**\n",
        "\n",
        "Psycho (1960)\n",
        "\n",
        "Mirror Has Two Faces, The (1996)\n",
        "\n",
        "Evil Dead II (1987)\n",
        "\n",
        "Amityville 1992: It's About Time (1992)\n",
        "\n",
        "Kid in King Arthur's Court, A (1995)\n",
        "\n"
      ]
    },
    {
      "cell_type": "markdown",
      "metadata": {
        "id": "3Z96Kn-LPb1y",
        "colab_type": "text"
      },
      "source": [
        "The recommended movies generally have the similar genres as the picked movies. For example, the first movie \"All Dogs Go to Heaven 2\"'s genres include adventure, family and fantasy. The top 5 most similar movies mostly have the similar genres. Users who have tastes of certain genres of movies tends to rate movies which has the similar genres."
      ]
    },
    {
      "cell_type": "markdown",
      "metadata": {
        "id": "QiSiG2UrzdvK",
        "colab_type": "text"
      },
      "source": [
        "## Testing with different user types"
      ]
    },
    {
      "cell_type": "markdown",
      "metadata": {
        "id": "sH63iq22zdvK",
        "colab_type": "text"
      },
      "source": [
        "### (a) divide users with few ratings and those with a moderate to large number of ratings and compare the performance"
      ]
    },
    {
      "cell_type": "code",
      "metadata": {
        "id": "NeUK2ZR5zdvM",
        "colab_type": "code",
        "outputId": "964d53c5-efe0-4997-eae6-467480fec490",
        "colab": {
          "base_uri": "https://localhost:8080/",
          "height": 279
        }
      },
      "source": [
        "ratings = dataPreprocessor(rating_df, num_users, num_items)\n",
        "num = []\n",
        "for user in range(0,len(ratings)):\n",
        "  count = 0\n",
        "  for item in range(0,len(ratings[user])):\n",
        "    if ratings[user][item] != 0:\n",
        "      count += 1\n",
        "  num.append(count)\n",
        "\n",
        "plt.hist(num, bins=30)\n",
        "plt.xlabel(\"number of ratings\")\n",
        "plt.ylabel(\"number of users\")\n",
        "plt.show()"
      ],
      "execution_count": 0,
      "outputs": [
        {
          "output_type": "display_data",
          "data": {
            "image/png": "[encoded data removed]",
            "text/plain": [
              "<Figure size 432x288 with 1 Axes>"
            ]
          },
          "metadata": {
            "tags": []
          }
        }
      ]
    },
    {
      "cell_type": "markdown",
      "metadata": {
        "id": "ufIuEzlgo6zi",
        "colab_type": "text"
      },
      "source": [
        "Pick threshold = 40.\n",
        "\n",
        "(i)Above 40 of liked items\n",
        "\n",
        "High (User): 1.0191489463878776\n",
        "High (Item): 1.0113305978925313\n",
        "\n",
        "High (User): 1.0159271155620724\n",
        "High (Item): 1.0190664527829598\n",
        "\n",
        "High (User): 1.0112676777768064\n",
        "High (Item): 1.0181470171783826\n",
        "\n",
        "High (User): 1.0068579101716613\n",
        "High (Item): 1.0133918930121206\n",
        "\n",
        "High (User): 1.0116756933057802\n",
        "High (Item): 1.0194927218846792\n",
        "\n",
        "(ii)Below 40 of liked items\n",
        "\n",
        "Low (User): 1.1558571570778884\n",
        "Low (Item): 1.3713576937684786\n",
        "\n",
        "Low (User): 1.2037370367126599\n",
        "Low (Item): 1.2715746918449673\n",
        "\n",
        "Low (User): 1.1494066631217454\n",
        "Low (Item): 1.2800524007005154\n",
        "\n",
        "Low (User): 1.1774999724475854\n",
        "Low (Item): 1.3378080526697897\n",
        "\n",
        "Low (User): 1.177729439932829\n",
        "Low (Item): 1.3003463362468513\n",
        "\n",
        "In both cases, user-user collaborative filtering performs better than  item-item collaborative filtering because of significantly more items than users in the dataset. However, the overall performance is better for criteria rating >40 items per users. This is because the number of users with more than or equal to 40 ratings is much more than the number of users with less than 40 ratings.\n"
      ]
    },
    {
      "cell_type": "code",
      "metadata": {
        "id": "94Pid1l1uK6Z",
        "colab_type": "code",
        "colab": {}
      },
      "source": [
        "few_rating_df = rating_df.copy()\n",
        "more_rating_df = rating_df.copy()\n",
        "\n",
        "for userID in few_rating_df.userID.unique():\n",
        "  if len(few_rating_df[few_rating_df['userID'] == userID]) >= 40:\n",
        "    few_rating_df.drop(few_rating_df.loc[few_rating_df['userID']==userID].index, inplace=True)    \n",
        "  else: more_rating_df.drop(few_rating_df.loc[few_rating_df['userID']==userID].index, inplace=True)\n"
      ],
      "execution_count": 0,
      "outputs": []
    },
    {
      "cell_type": "code",
      "metadata": {
        "id": "hgZ-0jBPtuI2",
        "colab_type": "code",
        "outputId": "cfd5190d-6396-4894-db60-c018a621aa9f",
        "colab": {
          "base_uri": "https://localhost:8080/",
          "height": 1000
        }
      },
      "source": [
        "from sklearn.model_selection import KFold \n",
        "kf = KFold(n_splits=5, random_state=42, shuffle=True) \n",
        "kf.get_n_splits(few_rating_df) # returns the number of splitting iterations in the cross-validator\n",
        "\n",
        "for train_index, test_index in kf.split(few_rating_df):\n",
        "    train = few_rating_df.iloc[train_index]\n",
        "    test =  few_rating_df.iloc[test_index]\n",
        "\n",
        "    user_cosine_recsys = SimBasedRecSys('user','cosine')\n",
        "    user_cosine_recsys.predict_all(train, num_users, num_items)\n",
        "    user_cosine_recsys.getModel()\n",
        "    userAvgPreiction = user_cosine_recsys.evaluate_test(test,copy=True)\n",
        "    \n",
        "    item_cosine_recsys = SimBasedRecSys('item','cosine')\n",
        "    item_cosine_recsys.predict_all(train, num_users, num_items)\n",
        "    item_cosine_recsys.getModel()\n",
        "    itemAvgPreiction = item_cosine_recsys.evaluate_test(test,copy=True)\n",
        "\n",
        "    print ('Low (User):',sqrt(mean_squared_error(userAvgPreiction['rating'], userAvgPreiction['user-cosine'])))\n",
        "    print ('Low (Item):',sqrt(mean_squared_error(itemAvgPreiction['rating'], itemAvgPreiction['item-cosine'])))"
      ],
      "execution_count": 0,
      "outputs": [
        {
          "output_type": "stream",
          "text": [
            "\n",
            "0it [00:00, ?it/s]\u001b[A\n",
            "198it [00:00, 1974.45it/s]\u001b[A\n",
            "424it [00:00, 2051.26it/s]\u001b[A\n",
            "650it [00:00, 2108.61it/s]\u001b[A\n",
            "891it [00:00, 2188.72it/s]\u001b[A\n",
            "1110it [00:00, 2187.59it/s]\u001b[A\n",
            "1340it [00:00, 2218.26it/s]\u001b[A\n",
            "1540it [00:00, 2085.75it/s]\u001b[A\n",
            "1622it [00:00, 2147.65it/s]\u001b[A\n",
            "0it [00:00, ?it/s]\u001b[A\n",
            "188it [00:00, 1874.04it/s]\u001b[A\n",
            "417it [00:00, 1980.87it/s]\u001b[A\n",
            "655it [00:00, 2084.85it/s]\u001b[A\n",
            "893it [00:00, 2164.81it/s]\u001b[A\n",
            "1126it [00:00, 2210.87it/s]\u001b[A\n",
            "1354it [00:00, 2229.76it/s]\u001b[A\n",
            "1597it [00:00, 2285.06it/s]\u001b[A\n",
            "1622it [00:00, 2251.47it/s]\u001b[A"
          ],
          "name": "stderr"
        },
        {
          "output_type": "stream",
          "text": [
            "Low (User): 1.1558571570778884\n",
            "Low (Item): 1.3713576937684786\n"
          ],
          "name": "stdout"
        },
        {
          "output_type": "stream",
          "text": [
            "\n",
            "0it [00:00, ?it/s]\u001b[A\n",
            "189it [00:00, 1883.21it/s]\u001b[A\n",
            "424it [00:00, 2001.71it/s]\u001b[A\n",
            "657it [00:00, 2088.85it/s]\u001b[A\n",
            "897it [00:00, 2173.02it/s]\u001b[A\n",
            "1127it [00:00, 2209.20it/s]\u001b[A\n",
            "1368it [00:00, 2264.76it/s]\u001b[A\n",
            "1595it [00:00, 2263.74it/s]\u001b[A\n",
            "1622it [00:00, 2247.00it/s]\u001b[A\n",
            "0it [00:00, ?it/s]\u001b[A\n",
            "187it [00:00, 1862.77it/s]\u001b[A\n",
            "405it [00:00, 1946.52it/s]\u001b[A\n",
            "633it [00:00, 2034.45it/s]\u001b[A\n",
            "865it [00:00, 2111.49it/s]\u001b[A\n",
            "1109it [00:00, 2199.95it/s]\u001b[A\n",
            "1348it [00:00, 2253.26it/s]\u001b[A\n",
            "1575it [00:00, 2255.88it/s]\u001b[A\n",
            "1622it [00:00, 2224.20it/s]\u001b[A"
          ],
          "name": "stderr"
        },
        {
          "output_type": "stream",
          "text": [
            "Low (User): 1.2037370367126599\n",
            "Low (Item): 1.2715746918449673\n"
          ],
          "name": "stdout"
        },
        {
          "output_type": "stream",
          "text": [
            "\n",
            "0it [00:00, ?it/s]\u001b[A\n",
            "187it [00:00, 1867.02it/s]\u001b[A\n",
            "407it [00:00, 1955.16it/s]\u001b[A\n",
            "635it [00:00, 2042.09it/s]\u001b[A\n",
            "860it [00:00, 2098.58it/s]\u001b[A\n",
            "1090it [00:00, 2154.42it/s]\u001b[A\n",
            "1293it [00:00, 2113.21it/s]\u001b[A\n",
            "1518it [00:00, 2152.01it/s]\u001b[A\n",
            "1622it [00:00, 2152.44it/s]\u001b[A\n",
            "0it [00:00, ?it/s]\u001b[A\n",
            "190it [00:00, 1893.77it/s]\u001b[A\n",
            "422it [00:00, 2003.68it/s]\u001b[A\n",
            "640it [00:00, 2052.03it/s]\u001b[A\n",
            "877it [00:00, 2136.71it/s]\u001b[A\n",
            "1102it [00:00, 2168.96it/s]\u001b[A\n",
            "1341it [00:00, 2229.29it/s]\u001b[A\n",
            "1578it [00:00, 2268.57it/s]\u001b[A\n",
            "1622it [00:00, 2230.54it/s]\u001b[A"
          ],
          "name": "stderr"
        },
        {
          "output_type": "stream",
          "text": [
            "Low (User): 1.1494066631217454\n",
            "Low (Item): 1.2800524007005154\n"
          ],
          "name": "stdout"
        },
        {
          "output_type": "stream",
          "text": [
            "\n",
            "0it [00:00, ?it/s]\u001b[A\n",
            "190it [00:00, 1893.67it/s]\u001b[A\n",
            "435it [00:00, 2030.97it/s]\u001b[A\n",
            "656it [00:00, 2079.96it/s]\u001b[A\n",
            "890it [00:00, 2150.99it/s]\u001b[A\n",
            "1122it [00:00, 2197.21it/s]\u001b[A\n",
            "1363it [00:00, 2254.72it/s]\u001b[A\n",
            "1606it [00:00, 2303.45it/s]\u001b[A\n",
            "1622it [00:00, 2265.42it/s]\u001b[A\n",
            "0it [00:00, ?it/s]\u001b[A\n",
            "183it [00:00, 1829.84it/s]\u001b[A\n",
            "405it [00:00, 1930.10it/s]\u001b[A\n",
            "648it [00:00, 2056.88it/s]\u001b[A\n",
            "890it [00:00, 2153.59it/s]\u001b[A\n",
            "1124it [00:00, 2204.82it/s]\u001b[A\n",
            "1359it [00:00, 2245.52it/s]\u001b[A\n",
            "1577it [00:00, 2225.06it/s]\u001b[A\n",
            "1622it [00:00, 2223.17it/s]\u001b[A"
          ],
          "name": "stderr"
        },
        {
          "output_type": "stream",
          "text": [
            "Low (User): 1.1774999724475854\n",
            "Low (Item): 1.3378080526697897\n"
          ],
          "name": "stdout"
        },
        {
          "output_type": "stream",
          "text": [
            "\n",
            "0it [00:00, ?it/s]\u001b[A\n",
            "184it [00:00, 1839.62it/s]\u001b[A\n",
            "397it [00:00, 1916.86it/s]\u001b[A\n",
            "621it [00:00, 2002.01it/s]\u001b[A\n",
            "843it [00:00, 2061.87it/s]\u001b[A\n",
            "1078it [00:00, 2139.76it/s]\u001b[A\n",
            "1310it [00:00, 2190.18it/s]\u001b[A\n",
            "1552it [00:00, 2250.34it/s]\u001b[A\n",
            "1622it [00:00, 2190.16it/s]\u001b[A\n",
            "0it [00:00, ?it/s]\u001b[A\n",
            "148it [00:00, 1477.50it/s]\u001b[A\n",
            "358it [00:00, 1620.56it/s]\u001b[A\n",
            "587it [00:00, 1775.87it/s]\u001b[A\n",
            "827it [00:00, 1925.53it/s]\u001b[A\n",
            "1057it [00:00, 2024.21it/s]\u001b[A\n",
            "1293it [00:00, 2114.36it/s]\u001b[A\n",
            "1519it [00:00, 2155.68it/s]\u001b[A\n",
            "1622it [00:00, 2152.65it/s]\u001b[A"
          ],
          "name": "stderr"
        },
        {
          "output_type": "stream",
          "text": [
            "Low (User): 1.177729439932829\n",
            "Low (Item): 1.3003463362468513\n"
          ],
          "name": "stdout"
        }
      ]
    },
    {
      "cell_type": "code",
      "metadata": {
        "id": "7LAx299F1lkn",
        "colab_type": "code",
        "outputId": "8c358d20-d346-4b65-8631-4a5894aa37ef",
        "colab": {
          "base_uri": "https://localhost:8080/",
          "height": 381
        }
      },
      "source": [
        "kf = KFold(n_splits=5, random_state=42, shuffle=True) # Define the split - into 10 folds \n",
        "kf.get_n_splits(more_rating_df) # returns the number of splitting iterations in the cross-validator\n",
        "\n",
        "for train_index, test_index in kf.split(more_rating_df):\n",
        "    train = more_rating_df.iloc[train_index]\n",
        "    test =  more_rating_df.iloc[test_index]\n",
        "\n",
        "    user_cosine_recsys = SimBasedRecSys('user','cosine')\n",
        "    user_cosine_recsys.predict_all(train, num_users, num_items)\n",
        "    user_cosine_recsys.getModel()\n",
        "    userAvgPreiction = user_cosine_recsys.evaluate_test(test,copy=True)\n",
        "    \n",
        "    item_cosine_recsys = SimBasedRecSys('item','cosine')\n",
        "    item_cosine_recsys.predict_all(train, num_users, num_items)\n",
        "    item_cosine_recsys.getModel()\n",
        "    itemAvgPreiction = item_cosine_recsys.evaluate_test(test,copy=True)\n",
        "\n",
        "    print ('High (User):',sqrt(mean_squared_error(userAvgPreiction['rating'], userAvgPreiction['user-cosine'])))\n",
        "    print ('High (Item):',sqrt(mean_squared_error(itemAvgPreiction['rating'], itemAvgPreiction['item-cosine'])))"
      ],
      "execution_count": 0,
      "outputs": [
        {
          "output_type": "stream",
          "text": [
            "18378it [00:08, 2109.85it/s]\n",
            "18378it [00:08, 2113.31it/s]\n"
          ],
          "name": "stderr"
        },
        {
          "output_type": "stream",
          "text": [
            "High (User): 1.0191489463878776\n",
            "High (Item): 1.0113305978925313\n"
          ],
          "name": "stdout"
        },
        {
          "output_type": "stream",
          "text": [
            "18378it [00:08, 2124.99it/s]\n",
            "18378it [00:08, 2144.36it/s]\n"
          ],
          "name": "stderr"
        },
        {
          "output_type": "stream",
          "text": [
            "High (User): 1.0159271155620724\n",
            "High (Item): 1.0190664527829598\n"
          ],
          "name": "stdout"
        },
        {
          "output_type": "stream",
          "text": [
            "18378it [00:08, 2122.56it/s]\n",
            "18378it [00:08, 2118.27it/s]\n"
          ],
          "name": "stderr"
        },
        {
          "output_type": "stream",
          "text": [
            "High (User): 1.0112676777768064\n",
            "High (Item): 1.0181470171783826\n"
          ],
          "name": "stdout"
        },
        {
          "output_type": "stream",
          "text": [
            "18378it [00:08, 2119.45it/s]\n",
            "18378it [00:08, 2096.58it/s]\n"
          ],
          "name": "stderr"
        },
        {
          "output_type": "stream",
          "text": [
            "High (User): 1.0068579101716613\n",
            "High (Item): 1.0133918930121206\n"
          ],
          "name": "stdout"
        },
        {
          "output_type": "stream",
          "text": [
            "18378it [00:08, 2115.26it/s]\n",
            "18378it [00:08, 2135.80it/s]"
          ],
          "name": "stderr"
        },
        {
          "output_type": "stream",
          "text": [
            "High (User): 1.0116756933057802\n",
            "High (Item): 1.0194927218846792\n"
          ],
          "name": "stdout"
        },
        {
          "output_type": "stream",
          "text": [
            "\n"
          ],
          "name": "stderr"
        }
      ]
    }
  ]
}